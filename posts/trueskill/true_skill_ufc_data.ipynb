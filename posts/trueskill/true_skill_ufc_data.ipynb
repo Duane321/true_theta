{
 "cells": [
  {
   "cell_type": "code",
   "execution_count": 13,
   "metadata": {},
   "outputs": [],
   "source": [
    "import requests\n",
    "from bs4 import BeautifulSoup\n",
    "from tqdm import tqdm\n",
    "import json\n",
    "import spacy"
   ]
  },
  {
   "cell_type": "code",
   "execution_count": 14,
   "metadata": {},
   "outputs": [],
   "source": [
    "spacy_nlp = spacy.load('en_core_web_sm')"
   ]
  },
  {
   "cell_type": "code",
   "execution_count": 70,
   "metadata": {},
   "outputs": [],
   "source": [
    "def entity_lst_from_wiki_url(meta_url):\n",
    "    response = requests.get(meta_url)\n",
    "\n",
    "    soup = BeautifulSoup(response.content, \"html.parser\")\n",
    "\n",
    "    href_set = set()\n",
    "    for link in soup.find_all(\"a\"):\n",
    "        href = link.get(\"href\")\n",
    "        if href and \"/wiki/\" in href:\n",
    "            #print(href)\n",
    "            href_set.add(href.replace(\"/wiki/\", \"\"))\n",
    "    href_set_lst = list(href_set)\n",
    "    print(f\"length of entities in the list: %d\"%(len(href_set_lst)))\n",
    "\n",
    "    print('running space nlp to filter out location type entities')\n",
    "\n",
    "    href_set_person_lst = []\n",
    "    for entity in href_set_lst:\n",
    "        if entity[:5]!='https':\n",
    "            loaded = spacy_nlp(entity.replace(\"_\", \" \"))\n",
    "            if loaded.ents:\n",
    "                #print(loaded.ents)\n",
    "                #if loaded.ents[0].label_=='PERSON':\n",
    "                if loaded.ents[0].label_!='GPE':\n",
    "                    url = \"https://en.wikipedia.org\" + \"/wiki/\" + entity.replace(\" \", \"_\")\n",
    "                    href_set_person_lst.append(url)\n",
    "\n",
    "    return href_set_person_lst"
   ]
  },
  {
   "cell_type": "code",
   "execution_count": 2,
   "metadata": {},
   "outputs": [],
   "source": [
    "url = \"https://en.wikipedia.org/wiki/List_of_UFC_fighters\"\n",
    "\n",
    "response = requests.get(url)\n",
    "\n",
    "soup = BeautifulSoup(response.content, \"html.parser\")\n",
    "\n",
    "fighter_links = []\n",
    "for link in soup.find_all(\"a\"):\n",
    "    href = link.get(\"href\")\n",
    "    if href and \"/wiki/\" in href and \"UFC_fighter\" in href:\n",
    "        fighter_links.append(\"https://en.wikipedia.org\" + href)"
   ]
  },
  {
   "cell_type": "code",
   "execution_count": 10,
   "metadata": {},
   "outputs": [],
   "source": [
    "href_set = set()\n",
    "for link in soup.find_all(\"a\"):\n",
    "    href = link.get(\"href\")\n",
    "    if href and \"/wiki/\" in href:\n",
    "        #print(href)\n",
    "        href_set.add(href.replace(\"/wiki/\", \"\"))"
   ]
  },
  {
   "cell_type": "code",
   "execution_count": 42,
   "metadata": {},
   "outputs": [
    {
     "data": {
      "text/plain": [
       "647"
      ]
     },
     "execution_count": 42,
     "metadata": {},
     "output_type": "execute_result"
    }
   ],
   "source": [
    "href_set_lst = list(href_set)\n",
    "len(href_set_lst)"
   ]
  },
  {
   "cell_type": "markdown",
   "metadata": {},
   "source": [
    "### filter entities extracted from the wiki page, assume any entity that is not a geographic location(GPE) is a UFC fighter; we go this approach because sometimes spacy won't recognize the fighter as person(PERSON) correctly.\n"
   ]
  },
  {
   "cell_type": "code",
   "execution_count": 59,
   "metadata": {},
   "outputs": [],
   "source": [
    "href_set_person_lst = []\n",
    "for entity in href_set_lst:\n",
    "    if entity[:5]!='https':\n",
    "        loaded = spacy_nlp(entity.replace(\"_\", \" \"))\n",
    "        if loaded.ents:\n",
    "            #print(loaded.ents)\n",
    "            #if loaded.ents[0].label_=='PERSON':\n",
    "            if loaded.ents[0].label_!='GPE':\n",
    "                url = \"https://en.wikipedia.org\" + \"/wiki/\" + entity.replace(\" \", \"_\")\n",
    "                href_set_person_lst.append(url)"
   ]
  },
  {
   "cell_type": "code",
   "execution_count": 60,
   "metadata": {},
   "outputs": [
    {
     "data": {
      "text/plain": [
       "474"
      ]
     },
     "execution_count": 60,
     "metadata": {},
     "output_type": "execute_result"
    }
   ],
   "source": [
    "len(href_set_person_lst)"
   ]
  },
  {
   "cell_type": "code",
   "execution_count": 64,
   "metadata": {},
   "outputs": [],
   "source": [
    "with open(\"data/ufc_wiki_urls_raw.txt\", \"w\") as f:\n",
    "    for item in href_set_person_lst:\n",
    "        f.write(f\"{item}\\n\")"
   ]
  },
  {
   "cell_type": "markdown",
   "metadata": {},
   "source": [
    "### manually remove links that are not UFC fighters"
   ]
  },
  {
   "cell_type": "code",
   "execution_count": null,
   "metadata": {},
   "outputs": [],
   "source": [
    "### e.g. https://en.wikipedia.org/wiki/Strawweight_(MMA), https://en.wikipedia.org/wiki/UFC_290, https://en.wikipedia.org/wiki/Category:Articles_with_hCards"
   ]
  },
  {
   "cell_type": "code",
   "execution_count": 66,
   "metadata": {},
   "outputs": [],
   "source": [
    "with open(\"data/ufc_wiki_urls_raw.txt\", \"r\") as f:\n",
    "    lines = f.readlines()\n",
    "ufc_fighters_lst = [line.strip() for line in lines]"
   ]
  },
  {
   "cell_type": "code",
   "execution_count": 67,
   "metadata": {},
   "outputs": [
    {
     "data": {
      "text/plain": [
       "474"
      ]
     },
     "execution_count": 67,
     "metadata": {},
     "output_type": "execute_result"
    }
   ],
   "source": [
    "len(href_set_person_lst)"
   ]
  },
  {
   "cell_type": "code",
   "execution_count": 71,
   "metadata": {},
   "outputs": [
    {
     "name": "stdout",
     "output_type": "stream",
     "text": [
      "length of entities in the list: 644\n",
      "running space nlp to filter out location type entities\n"
     ]
    }
   ],
   "source": [
    "href_current_person_lst = entity_lst_from_wiki_url(\"https://en.wikipedia.org/wiki/List_of_current_UFC_fighters\")"
   ]
  },
  {
   "cell_type": "code",
   "execution_count": 72,
   "metadata": {},
   "outputs": [
    {
     "name": "stdout",
     "output_type": "stream",
     "text": [
      "length of entities in the list: 676\n",
      "running space nlp to filter out location type entities\n"
     ]
    }
   ],
   "source": [
    "href_UFC_rankings_person_lst = entity_lst_from_wiki_url(\"https://en.wikipedia.org/wiki/UFC_rankings\")"
   ]
  },
  {
   "cell_type": "code",
   "execution_count": null,
   "metadata": {},
   "outputs": [],
   "source": [
    "href_UFC_hof_person_lst = entity_lst_from_wiki_url(\"https://en.wikipedia.org/wiki/UFC_Hall_of_Fame\")"
   ]
  },
  {
   "cell_type": "code",
   "execution_count": 75,
   "metadata": {},
   "outputs": [],
   "source": [
    "href_combined_person_lst = list(set(href_set_person_lst + href_current_person_lst + href_UFC_rankings_person_lst))"
   ]
  },
  {
   "cell_type": "code",
   "execution_count": 76,
   "metadata": {},
   "outputs": [
    {
     "data": {
      "text/plain": [
       "638"
      ]
     },
     "execution_count": 76,
     "metadata": {},
     "output_type": "execute_result"
    }
   ],
   "source": [
    "len(href_combined_person_lst)"
   ]
  },
  {
   "cell_type": "code",
   "execution_count": 81,
   "metadata": {},
   "outputs": [],
   "source": [
    "href_combined_person_lst = [url for url in href_combined_person_lst if 'UFC' not in url]"
   ]
  },
  {
   "cell_type": "code",
   "execution_count": 82,
   "metadata": {},
   "outputs": [
    {
     "data": {
      "text/plain": [
       "486"
      ]
     },
     "execution_count": 82,
     "metadata": {},
     "output_type": "execute_result"
    }
   ],
   "source": [
    "len(href_combined_person_lst)"
   ]
  },
  {
   "cell_type": "code",
   "execution_count": 78,
   "metadata": {},
   "outputs": [],
   "source": [
    "### https://en.wikipedia.org/wiki/Ultimate_Fighting_Championship\n",
    "### The organization had 578 fighters contracted as of January 2023."
   ]
  },
  {
   "cell_type": "code",
   "execution_count": 83,
   "metadata": {},
   "outputs": [],
   "source": [
    "with open(\"data/ufc_wiki_urls_raw_v2.txt\", \"w\") as f:\n",
    "    for item in href_combined_person_lst:\n",
    "        f.write(f\"{item}\\n\")"
   ]
  },
  {
   "cell_type": "code",
   "execution_count": 84,
   "metadata": {},
   "outputs": [],
   "source": [
    "added_persons_lst = [ent for ent in href_combined_person_lst if ent not in href_set_person_lst]"
   ]
  },
  {
   "cell_type": "code",
   "execution_count": 86,
   "metadata": {},
   "outputs": [
    {
     "data": {
      "text/plain": [
       "64"
      ]
     },
     "execution_count": 86,
     "metadata": {},
     "output_type": "execute_result"
    }
   ],
   "source": [
    "len(added_persons_lst)"
   ]
  },
  {
   "cell_type": "code",
   "execution_count": 87,
   "metadata": {},
   "outputs": [],
   "source": [
    "with open(\"data/ufc_wiki_urls_raw_v2_check.txt\", \"w\") as f:\n",
    "    for item in added_persons_lst:\n",
    "        f.write(f\"{item}\\n\")"
   ]
  },
  {
   "cell_type": "code",
   "execution_count": 90,
   "metadata": {},
   "outputs": [],
   "source": [
    "# manually review added_persons_lst\n",
    "added_url_lst = [\n",
    "    \"https://en.wikipedia.org/wiki/Ariane_Lipski\",\n",
    "    \"https://en.wikipedia.org/wiki/Muhammad_Mokaev\",\n",
    "    \"https://en.wikipedia.org/wiki/Francis_Ngannou\",\n",
    "    \"https://en.wikipedia.org/wiki/Michelle_Waterson-Gomez\"\n",
    "]"
   ]
  },
  {
   "cell_type": "code",
   "execution_count": 97,
   "metadata": {},
   "outputs": [],
   "source": [
    "with open('data/ufc_wiki_urls.txt', 'r') as file:\n",
    "    urls_orig = file.readlines()\n",
    "urls_orig = [url.strip() for url in urls_orig]"
   ]
  },
  {
   "cell_type": "code",
   "execution_count": 98,
   "metadata": {},
   "outputs": [],
   "source": [
    "href_set_person_lst_v2 = list(set(urls_orig + added_url_lst))"
   ]
  },
  {
   "cell_type": "code",
   "execution_count": 99,
   "metadata": {},
   "outputs": [
    {
     "data": {
      "text/plain": [
       "389"
      ]
     },
     "execution_count": 99,
     "metadata": {},
     "output_type": "execute_result"
    }
   ],
   "source": [
    "len(href_set_person_lst_v2)"
   ]
  },
  {
   "cell_type": "code",
   "execution_count": 100,
   "metadata": {},
   "outputs": [],
   "source": [
    "with open(\"data/ufc_wiki_urls_v2.txt\", \"w\") as f:\n",
    "    for item in href_set_person_lst_v2:\n",
    "        f.write(f\"{item}\\n\")"
   ]
  },
  {
   "cell_type": "code",
   "execution_count": null,
   "metadata": {},
   "outputs": [],
   "source": []
  },
  {
   "cell_type": "code",
   "execution_count": null,
   "metadata": {},
   "outputs": [],
   "source": []
  }
 ],
 "metadata": {
  "kernelspec": {
   "display_name": "trueskill_env",
   "language": "python",
   "name": "python3"
  },
  "language_info": {
   "codemirror_mode": {
    "name": "ipython",
    "version": 3
   },
   "file_extension": ".py",
   "mimetype": "text/x-python",
   "name": "python",
   "nbconvert_exporter": "python",
   "pygments_lexer": "ipython3",
   "version": "3.12.0"
  }
 },
 "nbformat": 4,
 "nbformat_minor": 2
}
