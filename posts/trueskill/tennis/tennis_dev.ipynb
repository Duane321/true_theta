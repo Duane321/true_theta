{
 "cells": [
  {
   "cell_type": "code",
   "execution_count": 1,
   "metadata": {},
   "outputs": [],
   "source": [
    "import sys\n",
    "sys.path.append('..')\n",
    "from data_processor import *\n",
    "from train_test_split_games import *\n",
    "from true_skill_through_time import *"
   ]
  },
  {
   "cell_type": "code",
   "execution_count": 2,
   "metadata": {},
   "outputs": [],
   "source": [
    "tennis_instance = TennisProcessor(\"../data/tennis_history.csv\")"
   ]
  },
  {
   "cell_type": "code",
   "execution_count": 3,
   "metadata": {},
   "outputs": [],
   "source": [
    "tennis_data_df = tennis_instance.process_games_data()"
   ]
  },
  {
   "cell_type": "code",
   "execution_count": 4,
   "metadata": {},
   "outputs": [],
   "source": [
    "tennis_data_df.to_parquet(\"../data/tennis_matches_refined_tstt.parquet\")"
   ]
  },
  {
   "cell_type": "code",
   "execution_count": 9,
   "metadata": {},
   "outputs": [],
   "source": [
    "tennis_splitter = TennisSpliter(\"../data/tennis_matches_refined_tstt.parquet\", \"../data/tennis_players_ge_40_matches_lst.json\")"
   ]
  },
  {
   "cell_type": "code",
   "execution_count": 10,
   "metadata": {},
   "outputs": [
    {
     "name": "stderr",
     "output_type": "stream",
     "text": [
      "100%|██████████| 2502/2502 [00:42<00:00, 59.35it/s]\n"
     ]
    }
   ],
   "source": [
    "tennis_train, tennis_test = tennis_splitter.train_test_split()"
   ]
  },
  {
   "cell_type": "code",
   "execution_count": 11,
   "metadata": {},
   "outputs": [
    {
     "data": {
      "text/plain": [
       "((284664, 4), (26301, 4))"
      ]
     },
     "execution_count": 11,
     "metadata": {},
     "output_type": "execute_result"
    }
   ],
   "source": [
    "tennis_train.shape, tennis_test.shape"
   ]
  },
  {
   "cell_type": "code",
   "execution_count": 12,
   "metadata": {},
   "outputs": [],
   "source": [
    "self = TrueSkillThroughTimeApplied(tennis_train)"
   ]
  },
  {
   "cell_type": "code",
   "execution_count": 13,
   "metadata": {},
   "outputs": [],
   "source": [
    "optimal_gamma = 0.0500\n",
    "optimal_sigma = 0.5000\n",
    "optimal_beta = 0.5000\n",
    "self.set_optimal_parameters(gamma = optimal_gamma, sigma = optimal_sigma, beta = optimal_beta)"
   ]
  },
  {
   "cell_type": "code",
   "execution_count": 14,
   "metadata": {},
   "outputs": [],
   "source": [
    "skill_curves = self.set_skill_curves()"
   ]
  },
  {
   "cell_type": "code",
   "execution_count": 15,
   "metadata": {},
   "outputs": [
    {
     "name": "stderr",
     "output_type": "stream",
     "text": [
      "/Users/davidliu/Desktop/Python312/true_theta/posts/trueskill/tennis/../true_skill_through_time.py:216: FutureWarning: The default of observed=False is deprecated and will be changed to True in a future version of pandas. Pass observed=False to retain current behavior or observed=True to adopt the future default and silence this warning.\n",
      "  bucket_means = df.groupby('win_prob_bucket').agg(\n"
     ]
    },
    {
     "data": {
      "text/html": [
       "\n",
       "<style>\n",
       "  #altair-viz-81c3f04a0c03424786f19e859bc8b0f8.vega-embed {\n",
       "    width: 100%;\n",
       "    display: flex;\n",
       "  }\n",
       "\n",
       "  #altair-viz-81c3f04a0c03424786f19e859bc8b0f8.vega-embed details,\n",
       "  #altair-viz-81c3f04a0c03424786f19e859bc8b0f8.vega-embed details summary {\n",
       "    position: relative;\n",
       "  }\n",
       "</style>\n",
       "<div id=\"altair-viz-81c3f04a0c03424786f19e859bc8b0f8\"></div>\n",
       "<script type=\"text/javascript\">\n",
       "  var VEGA_DEBUG = (typeof VEGA_DEBUG == \"undefined\") ? {} : VEGA_DEBUG;\n",
       "  (function(spec, embedOpt){\n",
       "    let outputDiv = document.currentScript.previousElementSibling;\n",
       "    if (outputDiv.id !== \"altair-viz-81c3f04a0c03424786f19e859bc8b0f8\") {\n",
       "      outputDiv = document.getElementById(\"altair-viz-81c3f04a0c03424786f19e859bc8b0f8\");\n",
       "    }\n",
       "    const paths = {\n",
       "      \"vega\": \"https://cdn.jsdelivr.net/npm/vega@5?noext\",\n",
       "      \"vega-lib\": \"https://cdn.jsdelivr.net/npm/vega-lib?noext\",\n",
       "      \"vega-lite\": \"https://cdn.jsdelivr.net/npm/vega-lite@5.20.1?noext\",\n",
       "      \"vega-embed\": \"https://cdn.jsdelivr.net/npm/vega-embed@6?noext\",\n",
       "    };\n",
       "\n",
       "    function maybeLoadScript(lib, version) {\n",
       "      var key = `${lib.replace(\"-\", \"\")}_version`;\n",
       "      return (VEGA_DEBUG[key] == version) ?\n",
       "        Promise.resolve(paths[lib]) :\n",
       "        new Promise(function(resolve, reject) {\n",
       "          var s = document.createElement('script');\n",
       "          document.getElementsByTagName(\"head\")[0].appendChild(s);\n",
       "          s.async = true;\n",
       "          s.onload = () => {\n",
       "            VEGA_DEBUG[key] = version;\n",
       "            return resolve(paths[lib]);\n",
       "          };\n",
       "          s.onerror = () => reject(`Error loading script: ${paths[lib]}`);\n",
       "          s.src = paths[lib];\n",
       "        });\n",
       "    }\n",
       "\n",
       "    function showError(err) {\n",
       "      outputDiv.innerHTML = `<div class=\"error\" style=\"color:red;\">${err}</div>`;\n",
       "      throw err;\n",
       "    }\n",
       "\n",
       "    function displayChart(vegaEmbed) {\n",
       "      vegaEmbed(outputDiv, spec, embedOpt)\n",
       "        .catch(err => showError(`Javascript Error: ${err.message}<br>This usually means there's a typo in your chart specification. See the javascript console for the full traceback.`));\n",
       "    }\n",
       "\n",
       "    if(typeof define === \"function\" && define.amd) {\n",
       "      requirejs.config({paths});\n",
       "      require([\"vega-embed\"], displayChart, err => showError(`Error loading script: ${err.message}`));\n",
       "    } else {\n",
       "      maybeLoadScript(\"vega\", \"5\")\n",
       "        .then(() => maybeLoadScript(\"vega-lite\", \"5.20.1\"))\n",
       "        .then(() => maybeLoadScript(\"vega-embed\", \"6\"))\n",
       "        .catch(showError)\n",
       "        .then(() => displayChart(vegaEmbed));\n",
       "    }\n",
       "  })({\"config\": {\"view\": {\"continuousWidth\": 300, \"continuousHeight\": 300}}, \"layer\": [{\"data\": {\"name\": \"data-42f50405073b2dbe8396db6b7dd2f6be\"}, \"mark\": {\"type\": \"line\", \"color\": \"black\", \"strokeDash\": [12, 12]}, \"encoding\": {\"x\": {\"field\": \"x\", \"type\": \"quantitative\"}, \"y\": {\"field\": \"y\", \"type\": \"quantitative\"}}}, {\"data\": {\"name\": \"data-c19685a7adf605d892e61cff21113902\"}, \"mark\": {\"type\": \"line\", \"strokeWidth\": 4}, \"encoding\": {\"x\": {\"field\": \"win_prob_midpoint\", \"title\": \"Predicted Win Probability\", \"type\": \"quantitative\"}, \"y\": {\"field\": \"avg_outcome\", \"title\": \"Average Outcome\", \"type\": \"quantitative\"}}}, {\"data\": {\"name\": \"data-c19685a7adf605d892e61cff21113902\"}, \"mark\": {\"type\": \"point\", \"fill\": \"white\", \"opacity\": 1, \"size\": 200, \"strokeWidth\": 4}, \"encoding\": {\"x\": {\"field\": \"win_prob_midpoint\", \"type\": \"quantitative\"}, \"y\": {\"field\": \"avg_outcome\", \"type\": \"quantitative\"}}}], \"height\": 400, \"title\": \"Calibration Plot In-Sample\", \"width\": 400, \"$schema\": \"https://vega.github.io/schema/vega-lite/v5.20.1.json\", \"datasets\": {\"data-42f50405073b2dbe8396db6b7dd2f6be\": [{\"x\": 0, \"y\": 0}, {\"x\": 1, \"y\": 1}], \"data-c19685a7adf605d892e61cff21113902\": [{\"avg_outcome\": 0.07622861558998138, \"win_prob_midpoint\": 0.17073984504605952}, {\"avg_outcome\": 0.1788800674488864, \"win_prob_midpoint\": 0.2918955947473464}, {\"avg_outcome\": 0.2646666198271622, \"win_prob_midpoint\": 0.3628592250346159}, {\"avg_outcome\": 0.3559911476446412, \"win_prob_midpoint\": 0.4205579112994631}, {\"avg_outcome\": 0.45225883510152465, \"win_prob_midpoint\": 0.4735479859891518}, {\"avg_outcome\": 0.5443687205789363, \"win_prob_midpoint\": 0.5251894014607567}, {\"avg_outcome\": 0.6426388449783961, \"win_prob_midpoint\": 0.5782508471866438}, {\"avg_outcome\": 0.7335768987564112, \"win_prob_midpoint\": 0.6363849566370211}, {\"avg_outcome\": 0.8234736176491253, \"win_prob_midpoint\": 0.7073563584347806}, {\"avg_outcome\": 0.923560614044332, \"win_prob_midpoint\": 0.8284767470454444}]}}, {\"mode\": \"vega-lite\"});\n",
       "</script>"
      ],
      "text/plain": [
       "alt.LayerChart(...)"
      ]
     },
     "execution_count": 15,
     "metadata": {},
     "output_type": "execute_result"
    }
   ],
   "source": [
    "self.plot_calibration()"
   ]
  },
  {
   "cell_type": "code",
   "execution_count": 16,
   "metadata": {},
   "outputs": [
    {
     "name": "stderr",
     "output_type": "stream",
     "text": [
      "/Users/davidliu/Desktop/Python312/true_theta/posts/trueskill/tennis/../true_skill_through_time.py:277: FutureWarning: The default of observed=False is deprecated and will be changed to True in a future version of pandas. Pass observed=False to retain current behavior or observed=True to adopt the future default and silence this warning.\n",
      "  bucket_means = df.groupby('win_prob_bucket').agg(\n"
     ]
    },
    {
     "data": {
      "text/html": [
       "\n",
       "<style>\n",
       "  #altair-viz-de703fa48db044d3b553e94e12d0b39e.vega-embed {\n",
       "    width: 100%;\n",
       "    display: flex;\n",
       "  }\n",
       "\n",
       "  #altair-viz-de703fa48db044d3b553e94e12d0b39e.vega-embed details,\n",
       "  #altair-viz-de703fa48db044d3b553e94e12d0b39e.vega-embed details summary {\n",
       "    position: relative;\n",
       "  }\n",
       "</style>\n",
       "<div id=\"altair-viz-de703fa48db044d3b553e94e12d0b39e\"></div>\n",
       "<script type=\"text/javascript\">\n",
       "  var VEGA_DEBUG = (typeof VEGA_DEBUG == \"undefined\") ? {} : VEGA_DEBUG;\n",
       "  (function(spec, embedOpt){\n",
       "    let outputDiv = document.currentScript.previousElementSibling;\n",
       "    if (outputDiv.id !== \"altair-viz-de703fa48db044d3b553e94e12d0b39e\") {\n",
       "      outputDiv = document.getElementById(\"altair-viz-de703fa48db044d3b553e94e12d0b39e\");\n",
       "    }\n",
       "    const paths = {\n",
       "      \"vega\": \"https://cdn.jsdelivr.net/npm/vega@5?noext\",\n",
       "      \"vega-lib\": \"https://cdn.jsdelivr.net/npm/vega-lib?noext\",\n",
       "      \"vega-lite\": \"https://cdn.jsdelivr.net/npm/vega-lite@5.20.1?noext\",\n",
       "      \"vega-embed\": \"https://cdn.jsdelivr.net/npm/vega-embed@6?noext\",\n",
       "    };\n",
       "\n",
       "    function maybeLoadScript(lib, version) {\n",
       "      var key = `${lib.replace(\"-\", \"\")}_version`;\n",
       "      return (VEGA_DEBUG[key] == version) ?\n",
       "        Promise.resolve(paths[lib]) :\n",
       "        new Promise(function(resolve, reject) {\n",
       "          var s = document.createElement('script');\n",
       "          document.getElementsByTagName(\"head\")[0].appendChild(s);\n",
       "          s.async = true;\n",
       "          s.onload = () => {\n",
       "            VEGA_DEBUG[key] = version;\n",
       "            return resolve(paths[lib]);\n",
       "          };\n",
       "          s.onerror = () => reject(`Error loading script: ${paths[lib]}`);\n",
       "          s.src = paths[lib];\n",
       "        });\n",
       "    }\n",
       "\n",
       "    function showError(err) {\n",
       "      outputDiv.innerHTML = `<div class=\"error\" style=\"color:red;\">${err}</div>`;\n",
       "      throw err;\n",
       "    }\n",
       "\n",
       "    function displayChart(vegaEmbed) {\n",
       "      vegaEmbed(outputDiv, spec, embedOpt)\n",
       "        .catch(err => showError(`Javascript Error: ${err.message}<br>This usually means there's a typo in your chart specification. See the javascript console for the full traceback.`));\n",
       "    }\n",
       "\n",
       "    if(typeof define === \"function\" && define.amd) {\n",
       "      requirejs.config({paths});\n",
       "      require([\"vega-embed\"], displayChart, err => showError(`Error loading script: ${err.message}`));\n",
       "    } else {\n",
       "      maybeLoadScript(\"vega\", \"5\")\n",
       "        .then(() => maybeLoadScript(\"vega-lite\", \"5.20.1\"))\n",
       "        .then(() => maybeLoadScript(\"vega-embed\", \"6\"))\n",
       "        .catch(showError)\n",
       "        .then(() => displayChart(vegaEmbed));\n",
       "    }\n",
       "  })({\"config\": {\"view\": {\"continuousWidth\": 300, \"continuousHeight\": 300}}, \"layer\": [{\"data\": {\"name\": \"data-42f50405073b2dbe8396db6b7dd2f6be\"}, \"mark\": {\"type\": \"line\", \"color\": \"black\", \"strokeDash\": [12, 12]}, \"encoding\": {\"x\": {\"field\": \"x\", \"type\": \"quantitative\"}, \"y\": {\"field\": \"y\", \"type\": \"quantitative\"}}}, {\"data\": {\"name\": \"data-31a5dabc2cf2297fde4d75d061ddd23e\"}, \"mark\": {\"type\": \"line\", \"strokeWidth\": 4}, \"encoding\": {\"x\": {\"field\": \"win_prob_midpoint\", \"title\": \"Predicted Win Probability\", \"type\": \"quantitative\"}, \"y\": {\"field\": \"avg_outcome\", \"title\": \"Average Outcome\", \"type\": \"quantitative\"}}}, {\"data\": {\"name\": \"data-31a5dabc2cf2297fde4d75d061ddd23e\"}, \"mark\": {\"type\": \"point\", \"fill\": \"white\", \"opacity\": 1, \"size\": 200, \"strokeWidth\": 4}, \"encoding\": {\"x\": {\"field\": \"win_prob_midpoint\", \"type\": \"quantitative\"}, \"y\": {\"field\": \"avg_outcome\", \"type\": \"quantitative\"}}}], \"height\": 400, \"title\": \"Calibration Plot Out-Of-Sample\", \"width\": 400, \"$schema\": \"https://vega.github.io/schema/vega-lite/v5.20.1.json\", \"datasets\": {\"data-42f50405073b2dbe8396db6b7dd2f6be\": [{\"x\": 0, \"y\": 0}, {\"x\": 1, \"y\": 1}], \"data-31a5dabc2cf2297fde4d75d061ddd23e\": [{\"avg_outcome\": 0.19186278420422817, \"win_prob_midpoint\": 0.15329814628123764}, {\"avg_outcome\": 0.29249800478850757, \"win_prob_midpoint\": 0.2797071068974863}, {\"avg_outcome\": 0.36951316839584997, \"win_prob_midpoint\": 0.35778404887046633}, {\"avg_outcome\": 0.42019154030327216, \"win_prob_midpoint\": 0.41836534451592994}, {\"avg_outcome\": 0.47028320702034304, \"win_prob_midpoint\": 0.473980285248766}, {\"avg_outcome\": 0.5421157684630739, \"win_prob_midpoint\": 0.528357950164297}, {\"avg_outcome\": 0.5917797286512371, \"win_prob_midpoint\": 0.5843668260975403}, {\"avg_outcome\": 0.6396648044692738, \"win_prob_midpoint\": 0.646660685585012}, {\"avg_outcome\": 0.7098962490023942, \"win_prob_midpoint\": 0.7203907990272148}, {\"avg_outcome\": 0.8185081771041085, \"win_prob_midpoint\": 0.8438450983118003}]}}, {\"mode\": \"vega-lite\"});\n",
       "</script>"
      ],
      "text/plain": [
       "alt.LayerChart(...)"
      ]
     },
     "execution_count": 16,
     "metadata": {},
     "output_type": "execute_result"
    }
   ],
   "source": [
    "self.plot_calibration_oos(oos_data=tennis_test)"
   ]
  },
  {
   "cell_type": "code",
   "execution_count": null,
   "metadata": {},
   "outputs": [],
   "source": []
  }
 ],
 "metadata": {
  "kernelspec": {
   "display_name": "trueskill_env",
   "language": "python",
   "name": "python3"
  },
  "language_info": {
   "codemirror_mode": {
    "name": "ipython",
    "version": 3
   },
   "file_extension": ".py",
   "mimetype": "text/x-python",
   "name": "python",
   "nbconvert_exporter": "python",
   "pygments_lexer": "ipython3",
   "version": "3.12.0"
  }
 },
 "nbformat": 4,
 "nbformat_minor": 2
}
