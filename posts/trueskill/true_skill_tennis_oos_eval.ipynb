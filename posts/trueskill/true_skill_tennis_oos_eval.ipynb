{
 "cells": [
  {
   "cell_type": "code",
   "execution_count": 124,
   "metadata": {},
   "outputs": [],
   "source": [
    "import pandas as pd\n",
    "import numpy as np\n",
    "import altair as alt\n",
    "import requests\n",
    "from bs4 import BeautifulSoup\n",
    "import json\n",
    "from sklearn.model_selection import train_test_split\n",
    "from scipy.integrate import quad\n",
    "from scipy.stats import norm\n",
    "import matplotlib.pyplot as plt\n",
    "from sklearn.metrics import precision_recall_curve, roc_auc_score\n",
    "from tqdm import tqdm"
   ]
  },
  {
   "cell_type": "code",
   "execution_count": 2,
   "metadata": {},
   "outputs": [],
   "source": [
    "from true_skill_through_time import *"
   ]
  },
  {
   "cell_type": "code",
   "execution_count": 150,
   "metadata": {},
   "outputs": [],
   "source": [
    "games = pd.read_parquet(\"data/tennis_matches_refined_tstt.parquet\")"
   ]
  },
  {
   "cell_type": "code",
   "execution_count": 151,
   "metadata": {},
   "outputs": [],
   "source": [
    "total_matches_df = games.winner.value_counts().add(games.loser.value_counts(), fill_value=0).sort_values()"
   ]
  },
  {
   "cell_type": "code",
   "execution_count": 152,
   "metadata": {},
   "outputs": [
    {
     "data": {
      "text/plain": [
       "count    16784.000000\n",
       "mean        38.882984\n",
       "std        115.208091\n",
       "min          1.000000\n",
       "25%          1.000000\n",
       "50%          3.000000\n",
       "75%         13.000000\n",
       "max       1425.000000\n",
       "Name: count, dtype: float64"
      ]
     },
     "execution_count": 152,
     "metadata": {},
     "output_type": "execute_result"
    }
   ],
   "source": [
    "total_matches_df.describe()"
   ]
  },
  {
   "cell_type": "code",
   "execution_count": 153,
   "metadata": {},
   "outputs": [],
   "source": [
    "players_ge_40_matches_df = total_matches_df[total_matches_df>=40.0]"
   ]
  },
  {
   "cell_type": "code",
   "execution_count": 154,
   "metadata": {},
   "outputs": [
    {
     "data": {
      "text/plain": [
       "2502"
      ]
     },
     "execution_count": 154,
     "metadata": {},
     "output_type": "execute_result"
    }
   ],
   "source": [
    "len(players_ge_40_matches_df)"
   ]
  },
  {
   "cell_type": "code",
   "execution_count": 155,
   "metadata": {},
   "outputs": [],
   "source": [
    "players_ge_40_matches_df = pd.DataFrame(players_ge_40_matches_df, columns=['count']).reset_index()"
   ]
  },
  {
   "cell_type": "code",
   "execution_count": 156,
   "metadata": {},
   "outputs": [],
   "source": [
    "players_ge_40_matches_df = players_ge_40_matches_df.rename(columns={'index': 'player'})"
   ]
  },
  {
   "cell_type": "code",
   "execution_count": 157,
   "metadata": {},
   "outputs": [
    {
     "data": {
      "text/html": [
       "<div>\n",
       "<style scoped>\n",
       "    .dataframe tbody tr th:only-of-type {\n",
       "        vertical-align: middle;\n",
       "    }\n",
       "\n",
       "    .dataframe tbody tr th {\n",
       "        vertical-align: top;\n",
       "    }\n",
       "\n",
       "    .dataframe thead th {\n",
       "        text-align: right;\n",
       "    }\n",
       "</style>\n",
       "<table border=\"1\" class=\"dataframe\">\n",
       "  <thead>\n",
       "    <tr style=\"text-align: right;\">\n",
       "      <th></th>\n",
       "      <th>player</th>\n",
       "      <th>count</th>\n",
       "    </tr>\n",
       "  </thead>\n",
       "  <tbody>\n",
       "    <tr>\n",
       "      <th>2497</th>\n",
       "      <td>r419</td>\n",
       "      <td>1081.0</td>\n",
       "    </tr>\n",
       "    <tr>\n",
       "      <th>2498</th>\n",
       "      <td>s424</td>\n",
       "      <td>1084.0</td>\n",
       "    </tr>\n",
       "    <tr>\n",
       "      <th>2499</th>\n",
       "      <td>f401</td>\n",
       "      <td>1134.0</td>\n",
       "    </tr>\n",
       "    <tr>\n",
       "      <th>2500</th>\n",
       "      <td>n409</td>\n",
       "      <td>1175.0</td>\n",
       "    </tr>\n",
       "    <tr>\n",
       "      <th>2501</th>\n",
       "      <td>f324</td>\n",
       "      <td>1425.0</td>\n",
       "    </tr>\n",
       "  </tbody>\n",
       "</table>\n",
       "</div>"
      ],
      "text/plain": [
       "     player   count\n",
       "2497   r419  1081.0\n",
       "2498   s424  1084.0\n",
       "2499   f401  1134.0\n",
       "2500   n409  1175.0\n",
       "2501   f324  1425.0"
      ]
     },
     "execution_count": 157,
     "metadata": {},
     "output_type": "execute_result"
    }
   ],
   "source": [
    "players_ge_40_matches_df.tail()"
   ]
  },
  {
   "cell_type": "code",
   "execution_count": 10,
   "metadata": {},
   "outputs": [],
   "source": [
    "#players_ge_40_matches_df.to_csv(\"data/tennis_players_ge_40_matches.csv\", index=False)"
   ]
  },
  {
   "cell_type": "code",
   "execution_count": 158,
   "metadata": {},
   "outputs": [],
   "source": [
    "players_ge_40_matches_lst = players_ge_40_matches_df.player.unique().tolist()"
   ]
  },
  {
   "cell_type": "code",
   "execution_count": 16,
   "metadata": {},
   "outputs": [],
   "source": [
    "with open(\"data/tennis_players_ge_40_matches_lst.json\", \"w\") as f:\n",
    "    json.dump(players_ge_40_matches_lst, f, indent=4)"
   ]
  },
  {
   "cell_type": "code",
   "execution_count": 159,
   "metadata": {},
   "outputs": [],
   "source": [
    "games_ge_40 = games[games.winner.isin(players_ge_40_matches_lst) | games.loser.isin(players_ge_40_matches_lst)]"
   ]
  },
  {
   "cell_type": "code",
   "execution_count": 19,
   "metadata": {},
   "outputs": [],
   "source": [
    "#games_ge_40 = games_ge_40.rename(columns={'index': 'game_index'})"
   ]
  },
  {
   "cell_type": "code",
   "execution_count": 160,
   "metadata": {},
   "outputs": [
    {
     "data": {
      "text/plain": [
       "(310965, 326306)"
      ]
     },
     "execution_count": 160,
     "metadata": {},
     "output_type": "execute_result"
    }
   ],
   "source": [
    "len(games_ge_40), len(games)"
   ]
  },
  {
   "cell_type": "code",
   "execution_count": null,
   "metadata": {},
   "outputs": [],
   "source": []
  },
  {
   "cell_type": "markdown",
   "metadata": {},
   "source": [
    "### train test split (80:20) based on time for each one of 2502 players who has played at least 40 matches"
   ]
  },
  {
   "cell_type": "code",
   "execution_count": 161,
   "metadata": {},
   "outputs": [],
   "source": [
    "winners = games_ge_40[['winner', 'timestamp', 'match_id']].copy()\n",
    "winners['result'] = 1\n",
    "winners = winners.rename(columns={'winner': 'player'})\n",
    "\n",
    "# Create a dataframe for losers\n",
    "losers = games_ge_40[['loser', 'timestamp', 'match_id']].copy()\n",
    "losers['result'] = 0\n",
    "losers = losers.rename(columns={'loser': 'player'})\n",
    "\n",
    "# Concatenate winners and losers dataframes\n",
    "result_df = pd.concat([winners, losers], ignore_index=True)\n",
    "\n",
    "# Sort the resulting dataframe by timestamp\n",
    "result_df = result_df.sort_values(['player', 'timestamp']).reset_index(drop=True)"
   ]
  },
  {
   "cell_type": "code",
   "execution_count": 162,
   "metadata": {},
   "outputs": [],
   "source": [
    "players_ge_40_matches_df = result_df[result_df.player.isin(players_ge_40_matches_lst)].reset_index().iloc[:, 1:]"
   ]
  },
  {
   "cell_type": "code",
   "execution_count": 163,
   "metadata": {},
   "outputs": [
    {
     "data": {
      "text/html": [
       "<div>\n",
       "<style scoped>\n",
       "    .dataframe tbody tr th:only-of-type {\n",
       "        vertical-align: middle;\n",
       "    }\n",
       "\n",
       "    .dataframe tbody tr th {\n",
       "        vertical-align: top;\n",
       "    }\n",
       "\n",
       "    .dataframe thead th {\n",
       "        text-align: right;\n",
       "    }\n",
       "</style>\n",
       "<table border=\"1\" class=\"dataframe\">\n",
       "  <thead>\n",
       "    <tr style=\"text-align: right;\">\n",
       "      <th></th>\n",
       "      <th>player</th>\n",
       "      <th>timestamp</th>\n",
       "      <th>match_id</th>\n",
       "      <th>result</th>\n",
       "    </tr>\n",
       "  </thead>\n",
       "  <tbody>\n",
       "    <tr>\n",
       "      <th>576717</th>\n",
       "      <td>z419</td>\n",
       "      <td>2020-02-16</td>\n",
       "      <td>398202003bc65z419</td>\n",
       "      <td>0</td>\n",
       "    </tr>\n",
       "    <tr>\n",
       "      <th>576718</th>\n",
       "      <td>z419</td>\n",
       "      <td>2020-02-23</td>\n",
       "      <td>496202009i305z419</td>\n",
       "      <td>0</td>\n",
       "    </tr>\n",
       "    <tr>\n",
       "      <th>576719</th>\n",
       "      <td>z419</td>\n",
       "      <td>2020-03-01</td>\n",
       "      <td>9162202005v490z419</td>\n",
       "      <td>0</td>\n",
       "    </tr>\n",
       "    <tr>\n",
       "      <th>576720</th>\n",
       "      <td>z419</td>\n",
       "      <td>2020-03-15</td>\n",
       "      <td>3618202003z419r09x</td>\n",
       "      <td>1</td>\n",
       "    </tr>\n",
       "    <tr>\n",
       "      <th>576721</th>\n",
       "      <td>z419</td>\n",
       "      <td>2020-03-15</td>\n",
       "      <td>3618202004z419dc76</td>\n",
       "      <td>1</td>\n",
       "    </tr>\n",
       "  </tbody>\n",
       "</table>\n",
       "</div>"
      ],
      "text/plain": [
       "       player  timestamp            match_id  result\n",
       "576717   z419 2020-02-16   398202003bc65z419       0\n",
       "576718   z419 2020-02-23   496202009i305z419       0\n",
       "576719   z419 2020-03-01  9162202005v490z419       0\n",
       "576720   z419 2020-03-15  3618202003z419r09x       1\n",
       "576721   z419 2020-03-15  3618202004z419dc76       1"
      ]
     },
     "execution_count": 163,
     "metadata": {},
     "output_type": "execute_result"
    }
   ],
   "source": [
    "players_ge_40_matches_df.tail()"
   ]
  },
  {
   "cell_type": "code",
   "execution_count": 164,
   "metadata": {},
   "outputs": [
    {
     "data": {
      "text/plain": [
       "2502"
      ]
     },
     "execution_count": 164,
     "metadata": {},
     "output_type": "execute_result"
    }
   ],
   "source": [
    "players_ge_40_matches_df['player'].nunique()"
   ]
  },
  {
   "cell_type": "code",
   "execution_count": 165,
   "metadata": {},
   "outputs": [
    {
     "data": {
      "text/plain": [
       "(310965, 310965, 310965)"
      ]
     },
     "execution_count": 165,
     "metadata": {},
     "output_type": "execute_result"
    }
   ],
   "source": [
    "len(games_ge_40), len(winners), len(losers)"
   ]
  },
  {
   "cell_type": "code",
   "execution_count": 187,
   "metadata": {},
   "outputs": [
    {
     "data": {
      "text/plain": [
       "(621930, 576722, 576722)"
      ]
     },
     "execution_count": 187,
     "metadata": {},
     "output_type": "execute_result"
    }
   ],
   "source": [
    "len(result_df), len(players_ge_40_matches_df), len(players_ge_40_matches_df.drop_duplicates())"
   ]
  },
  {
   "cell_type": "code",
   "execution_count": null,
   "metadata": {},
   "outputs": [],
   "source": []
  },
  {
   "cell_type": "code",
   "execution_count": 167,
   "metadata": {},
   "outputs": [
    {
     "name": "stderr",
     "output_type": "stream",
     "text": [
      "100%|██████████| 2502/2502 [00:40<00:00, 61.60it/s]\n"
     ]
    }
   ],
   "source": [
    "test_size = 0.2\n",
    "train_data = []\n",
    "test_data = []\n",
    "\n",
    "for player in tqdm(players_ge_40_matches_df['player'].unique()):\n",
    "    player_data = players_ge_40_matches_df[players_ge_40_matches_df['player'] == player].sort_values('timestamp')\n",
    "    \n",
    "    # Ensure we have enough data to split\n",
    "    if len(player_data) > 1:\n",
    "        player_train, player_test = train_test_split(player_data, test_size=test_size, shuffle=False)\n",
    "        train_data.append(player_train)\n",
    "        test_data.append(player_test)\n",
    "    else:\n",
    "        print(f'player %s has only one match'%(player))\n",
    "        # If only one match, add it to training data\n",
    "        train_data.append(player_data)\n",
    "\n"
   ]
  },
  {
   "cell_type": "code",
   "execution_count": 168,
   "metadata": {},
   "outputs": [],
   "source": [
    "train_df = pd.concat(train_data, ignore_index=True)\n",
    "test_df = pd.concat(test_data, ignore_index=True)"
   ]
  },
  {
   "cell_type": "code",
   "execution_count": 170,
   "metadata": {},
   "outputs": [
    {
     "data": {
      "text/plain": [
       "(460385, 116337, 310965, 576722)"
      ]
     },
     "execution_count": 170,
     "metadata": {},
     "output_type": "execute_result"
    }
   ],
   "source": [
    "len(train_df), len(test_df), len(games_ge_40), len(players_ge_40_matches_df)"
   ]
  },
  {
   "cell_type": "code",
   "execution_count": 33,
   "metadata": {},
   "outputs": [],
   "source": [
    "# train_df.to_csv(\"data/oos_eval_tennis/train.csv\", index=False)\n",
    "# test_df.to_csv(\"data/oos_eval_tennis/test.csv\", index=False)"
   ]
  },
  {
   "cell_type": "code",
   "execution_count": 188,
   "metadata": {},
   "outputs": [
    {
     "data": {
      "text/html": [
       "<div>\n",
       "<style scoped>\n",
       "    .dataframe tbody tr th:only-of-type {\n",
       "        vertical-align: middle;\n",
       "    }\n",
       "\n",
       "    .dataframe tbody tr th {\n",
       "        vertical-align: top;\n",
       "    }\n",
       "\n",
       "    .dataframe thead th {\n",
       "        text-align: right;\n",
       "    }\n",
       "</style>\n",
       "<table border=\"1\" class=\"dataframe\">\n",
       "  <thead>\n",
       "    <tr style=\"text-align: right;\">\n",
       "      <th></th>\n",
       "      <th>winner</th>\n",
       "      <th>loser</th>\n",
       "      <th>match_id</th>\n",
       "      <th>timestamp</th>\n",
       "    </tr>\n",
       "  </thead>\n",
       "  <tbody>\n",
       "    <tr>\n",
       "      <th>100</th>\n",
       "      <td>j665</td>\n",
       "      <td>pk14</td>\n",
       "      <td>560191505j665pk14</td>\n",
       "      <td>1915-09-07</td>\n",
       "    </tr>\n",
       "    <tr>\n",
       "      <th>106</th>\n",
       "      <td>w835</td>\n",
       "      <td>cl07</td>\n",
       "      <td>560191505w835cl07</td>\n",
       "      <td>1915-09-07</td>\n",
       "    </tr>\n",
       "    <tr>\n",
       "      <th>96</th>\n",
       "      <td>he41</td>\n",
       "      <td>af01</td>\n",
       "      <td>560191505he41af01</td>\n",
       "      <td>1915-09-07</td>\n",
       "    </tr>\n",
       "    <tr>\n",
       "      <th>86</th>\n",
       "      <td>hf06</td>\n",
       "      <td>j664</td>\n",
       "      <td>560191505hf06j664</td>\n",
       "      <td>1915-09-07</td>\n",
       "    </tr>\n",
       "    <tr>\n",
       "      <th>83</th>\n",
       "      <td>w830</td>\n",
       "      <td>i384</td>\n",
       "      <td>560191505w830i384</td>\n",
       "      <td>1915-09-07</td>\n",
       "    </tr>\n",
       "  </tbody>\n",
       "</table>\n",
       "</div>"
      ],
      "text/plain": [
       "    winner loser           match_id  timestamp\n",
       "100   j665  pk14  560191505j665pk14 1915-09-07\n",
       "106   w835  cl07  560191505w835cl07 1915-09-07\n",
       "96    he41  af01  560191505he41af01 1915-09-07\n",
       "86    hf06  j664  560191505hf06j664 1915-09-07\n",
       "83    w830  i384  560191505w830i384 1915-09-07"
      ]
     },
     "execution_count": 188,
     "metadata": {},
     "output_type": "execute_result"
    }
   ],
   "source": [
    "games_ge_40.head()"
   ]
  },
  {
   "cell_type": "code",
   "execution_count": 189,
   "metadata": {},
   "outputs": [
    {
     "data": {
      "text/html": [
       "<div>\n",
       "<style scoped>\n",
       "    .dataframe tbody tr th:only-of-type {\n",
       "        vertical-align: middle;\n",
       "    }\n",
       "\n",
       "    .dataframe tbody tr th {\n",
       "        vertical-align: top;\n",
       "    }\n",
       "\n",
       "    .dataframe thead th {\n",
       "        text-align: right;\n",
       "    }\n",
       "</style>\n",
       "<table border=\"1\" class=\"dataframe\">\n",
       "  <thead>\n",
       "    <tr style=\"text-align: right;\">\n",
       "      <th></th>\n",
       "      <th>player</th>\n",
       "      <th>timestamp</th>\n",
       "      <th>match_id</th>\n",
       "      <th>result</th>\n",
       "    </tr>\n",
       "  </thead>\n",
       "  <tbody>\n",
       "    <tr>\n",
       "      <th>0</th>\n",
       "      <td>a002</td>\n",
       "      <td>1980-12-21</td>\n",
       "      <td>353198004a002c073</td>\n",
       "      <td>1</td>\n",
       "    </tr>\n",
       "    <tr>\n",
       "      <th>1</th>\n",
       "      <td>a002</td>\n",
       "      <td>1980-12-21</td>\n",
       "      <td>359198004a002v294</td>\n",
       "      <td>1</td>\n",
       "    </tr>\n",
       "    <tr>\n",
       "      <th>2</th>\n",
       "      <td>a002</td>\n",
       "      <td>1980-12-21</td>\n",
       "      <td>361198004k009a002</td>\n",
       "      <td>0</td>\n",
       "    </tr>\n",
       "    <tr>\n",
       "      <th>3</th>\n",
       "      <td>a002</td>\n",
       "      <td>1980-12-21</td>\n",
       "      <td>353198003h026a002</td>\n",
       "      <td>0</td>\n",
       "    </tr>\n",
       "    <tr>\n",
       "      <th>4</th>\n",
       "      <td>a002</td>\n",
       "      <td>1980-12-21</td>\n",
       "      <td>359198003m141a002</td>\n",
       "      <td>0</td>\n",
       "    </tr>\n",
       "  </tbody>\n",
       "</table>\n",
       "</div>"
      ],
      "text/plain": [
       "  player  timestamp           match_id  result\n",
       "0   a002 1980-12-21  353198004a002c073       1\n",
       "1   a002 1980-12-21  359198004a002v294       1\n",
       "2   a002 1980-12-21  361198004k009a002       0\n",
       "3   a002 1980-12-21  353198003h026a002       0\n",
       "4   a002 1980-12-21  359198003m141a002       0"
      ]
     },
     "execution_count": 189,
     "metadata": {},
     "output_type": "execute_result"
    }
   ],
   "source": [
    "train_df.head()"
   ]
  },
  {
   "cell_type": "code",
   "execution_count": 233,
   "metadata": {},
   "outputs": [
    {
     "data": {
      "text/html": [
       "<div>\n",
       "<style scoped>\n",
       "    .dataframe tbody tr th:only-of-type {\n",
       "        vertical-align: middle;\n",
       "    }\n",
       "\n",
       "    .dataframe tbody tr th {\n",
       "        vertical-align: top;\n",
       "    }\n",
       "\n",
       "    .dataframe thead th {\n",
       "        text-align: right;\n",
       "    }\n",
       "</style>\n",
       "<table border=\"1\" class=\"dataframe\">\n",
       "  <thead>\n",
       "    <tr style=\"text-align: right;\">\n",
       "      <th></th>\n",
       "      <th>winner</th>\n",
       "      <th>loser</th>\n",
       "      <th>match_id</th>\n",
       "      <th>timestamp_x</th>\n",
       "      <th>player</th>\n",
       "      <th>timestamp_y</th>\n",
       "    </tr>\n",
       "  </thead>\n",
       "  <tbody>\n",
       "    <tr>\n",
       "      <th>0</th>\n",
       "      <td>j665</td>\n",
       "      <td>pk14</td>\n",
       "      <td>560191505j665pk14</td>\n",
       "      <td>1915-09-07</td>\n",
       "      <td>j665</td>\n",
       "      <td>1915-09-07</td>\n",
       "    </tr>\n",
       "    <tr>\n",
       "      <th>1</th>\n",
       "      <td>w835</td>\n",
       "      <td>cl07</td>\n",
       "      <td>560191505w835cl07</td>\n",
       "      <td>1915-09-07</td>\n",
       "      <td>w835</td>\n",
       "      <td>1915-09-07</td>\n",
       "    </tr>\n",
       "    <tr>\n",
       "      <th>2</th>\n",
       "      <td>he41</td>\n",
       "      <td>af01</td>\n",
       "      <td>560191505he41af01</td>\n",
       "      <td>1915-09-07</td>\n",
       "      <td>he41</td>\n",
       "      <td>1915-09-07</td>\n",
       "    </tr>\n",
       "    <tr>\n",
       "      <th>3</th>\n",
       "      <td>w830</td>\n",
       "      <td>i384</td>\n",
       "      <td>560191505w830i384</td>\n",
       "      <td>1915-09-07</td>\n",
       "      <td>w830</td>\n",
       "      <td>1915-09-07</td>\n",
       "    </tr>\n",
       "    <tr>\n",
       "      <th>4</th>\n",
       "      <td>j665</td>\n",
       "      <td>mt38</td>\n",
       "      <td>560191500j665mt38</td>\n",
       "      <td>1915-09-07</td>\n",
       "      <td>j665</td>\n",
       "      <td>1915-09-07</td>\n",
       "    </tr>\n",
       "  </tbody>\n",
       "</table>\n",
       "</div>"
      ],
      "text/plain": [
       "  winner loser           match_id timestamp_x player timestamp_y\n",
       "0   j665  pk14  560191505j665pk14  1915-09-07   j665  1915-09-07\n",
       "1   w835  cl07  560191505w835cl07  1915-09-07   w835  1915-09-07\n",
       "2   he41  af01  560191505he41af01  1915-09-07   he41  1915-09-07\n",
       "3   w830  i384  560191505w830i384  1915-09-07   w830  1915-09-07\n",
       "4   j665  mt38  560191500j665mt38  1915-09-07   j665  1915-09-07"
      ]
     },
     "execution_count": 233,
     "metadata": {},
     "output_type": "execute_result"
    }
   ],
   "source": [
    "games_ge_40_train_df_w.head()"
   ]
  },
  {
   "cell_type": "code",
   "execution_count": null,
   "metadata": {},
   "outputs": [],
   "source": []
  },
  {
   "cell_type": "code",
   "execution_count": 234,
   "metadata": {},
   "outputs": [],
   "source": [
    "games_ge_40_train_df_w = pd.merge(games_ge_40[['winner', 'loser', 'match_id', 'timestamp']], train_df[['player', 'match_id', 'timestamp']], left_on=['winner', 'match_id', 'timestamp'], right_on=['player', 'match_id', 'timestamp'], how='inner')\n",
    "games_ge_40_train_df_l = pd.merge(games_ge_40[['winner', 'loser', 'match_id', 'timestamp']], train_df[['player', 'match_id', 'timestamp']], left_on=['loser', 'match_id', 'timestamp'], right_on=['player', 'match_id', 'timestamp'], how='inner')\n",
    "games_ge_40_train_df = pd.concat([games_ge_40_train_df_w[['winner', 'loser', 'match_id', 'timestamp']], games_ge_40_train_df_l[['winner', 'loser', 'match_id', 'timestamp']]]).drop_duplicates()"
   ]
  },
  {
   "cell_type": "code",
   "execution_count": 235,
   "metadata": {},
   "outputs": [
    {
     "data": {
      "text/plain": [
       "(247286, 213099, 284664)"
      ]
     },
     "execution_count": 235,
     "metadata": {},
     "output_type": "execute_result"
    }
   ],
   "source": [
    "len(games_ge_40_train_df_w), len(games_ge_40_train_df_l), len(games_ge_40_train_df)"
   ]
  },
  {
   "cell_type": "code",
   "execution_count": 236,
   "metadata": {},
   "outputs": [],
   "source": [
    "games_ge_40_test_df_w = pd.merge(games_ge_40[['winner', 'loser', 'match_id', 'timestamp']], test_df[['player', 'match_id', 'timestamp']], left_on=['winner', 'match_id', 'timestamp'], right_on=['player', 'match_id', 'timestamp'], how='inner')\n",
    "games_ge_40_test_df_l = pd.merge(games_ge_40[['winner', 'loser', 'match_id', 'timestamp']], test_df[['player', 'match_id', 'timestamp']], left_on=['loser', 'match_id', 'timestamp'], right_on=['player', 'match_id', 'timestamp'], how='inner')\n",
    "games_ge_40_test_df = pd.concat([games_ge_40_test_df_w[['winner', 'loser', 'match_id', 'timestamp']], games_ge_40_test_df_l[['winner', 'loser', 'match_id', 'timestamp']]]).drop_duplicates()"
   ]
  },
  {
   "cell_type": "code",
   "execution_count": 237,
   "metadata": {},
   "outputs": [
    {
     "data": {
      "text/plain": [
       "(55864, 60473, 99218)"
      ]
     },
     "execution_count": 237,
     "metadata": {},
     "output_type": "execute_result"
    }
   ],
   "source": [
    "len(games_ge_40_test_df_w), len(games_ge_40_test_df_l), len(games_ge_40_test_df)"
   ]
  },
  {
   "cell_type": "code",
   "execution_count": 238,
   "metadata": {},
   "outputs": [
    {
     "data": {
      "text/plain": [
       "(284664, 99218, 310965)"
      ]
     },
     "execution_count": 238,
     "metadata": {},
     "output_type": "execute_result"
    }
   ],
   "source": [
    "len(games_ge_40_train_df), len(games_ge_40_test_df), len(games_ge_40)"
   ]
  },
  {
   "cell_type": "code",
   "execution_count": 239,
   "metadata": {},
   "outputs": [
    {
     "data": {
      "text/html": [
       "<div>\n",
       "<style scoped>\n",
       "    .dataframe tbody tr th:only-of-type {\n",
       "        vertical-align: middle;\n",
       "    }\n",
       "\n",
       "    .dataframe tbody tr th {\n",
       "        vertical-align: top;\n",
       "    }\n",
       "\n",
       "    .dataframe thead th {\n",
       "        text-align: right;\n",
       "    }\n",
       "</style>\n",
       "<table border=\"1\" class=\"dataframe\">\n",
       "  <thead>\n",
       "    <tr style=\"text-align: right;\">\n",
       "      <th></th>\n",
       "      <th>winner</th>\n",
       "      <th>loser</th>\n",
       "      <th>match_id</th>\n",
       "      <th>timestamp</th>\n",
       "    </tr>\n",
       "  </thead>\n",
       "  <tbody>\n",
       "    <tr>\n",
       "      <th>0</th>\n",
       "      <td>j665</td>\n",
       "      <td>pk14</td>\n",
       "      <td>560191505j665pk14</td>\n",
       "      <td>1915-09-07</td>\n",
       "    </tr>\n",
       "    <tr>\n",
       "      <th>1</th>\n",
       "      <td>w835</td>\n",
       "      <td>cl07</td>\n",
       "      <td>560191505w835cl07</td>\n",
       "      <td>1915-09-07</td>\n",
       "    </tr>\n",
       "    <tr>\n",
       "      <th>2</th>\n",
       "      <td>he41</td>\n",
       "      <td>af01</td>\n",
       "      <td>560191505he41af01</td>\n",
       "      <td>1915-09-07</td>\n",
       "    </tr>\n",
       "    <tr>\n",
       "      <th>3</th>\n",
       "      <td>w830</td>\n",
       "      <td>i384</td>\n",
       "      <td>560191505w830i384</td>\n",
       "      <td>1915-09-07</td>\n",
       "    </tr>\n",
       "    <tr>\n",
       "      <th>4</th>\n",
       "      <td>j665</td>\n",
       "      <td>mt38</td>\n",
       "      <td>560191500j665mt38</td>\n",
       "      <td>1915-09-07</td>\n",
       "    </tr>\n",
       "  </tbody>\n",
       "</table>\n",
       "</div>"
      ],
      "text/plain": [
       "  winner loser           match_id  timestamp\n",
       "0   j665  pk14  560191505j665pk14 1915-09-07\n",
       "1   w835  cl07  560191505w835cl07 1915-09-07\n",
       "2   he41  af01  560191505he41af01 1915-09-07\n",
       "3   w830  i384  560191505w830i384 1915-09-07\n",
       "4   j665  mt38  560191500j665mt38 1915-09-07"
      ]
     },
     "execution_count": 239,
     "metadata": {},
     "output_type": "execute_result"
    }
   ],
   "source": [
    "games_ge_40_train_df.head()"
   ]
  },
  {
   "cell_type": "code",
   "execution_count": 240,
   "metadata": {},
   "outputs": [],
   "source": [
    "#del games_ge_40_train_df['player']\n",
    "games_ge_40_train_df = games_ge_40_train_df.sort_values('timestamp')\n",
    "#del games_ge_40_test_df['player']\n",
    "games_ge_40_test_df = games_ge_40_test_df.sort_values('timestamp')"
   ]
  },
  {
   "cell_type": "code",
   "execution_count": 241,
   "metadata": {},
   "outputs": [],
   "source": [
    "games_ge_40_test_unique_df = games_ge_40_test_df[~games_ge_40_test_df.match_id.isin(games_ge_40_train_df.match_id.tolist())] "
   ]
  },
  {
   "cell_type": "code",
   "execution_count": 242,
   "metadata": {},
   "outputs": [
    {
     "data": {
      "text/plain": [
       "26301"
      ]
     },
     "execution_count": 242,
     "metadata": {},
     "output_type": "execute_result"
    }
   ],
   "source": [
    "len(games_ge_40_test_unique_df)"
   ]
  },
  {
   "cell_type": "code",
   "execution_count": null,
   "metadata": {},
   "outputs": [],
   "source": []
  },
  {
   "cell_type": "code",
   "execution_count": 243,
   "metadata": {},
   "outputs": [],
   "source": [
    "# games_ge_40_train_df.to_csv(\"data/oos_eval_tennis/games_ge_40_train.csv\", index=False)\n",
    "# games_ge_40_test_unique_df.to_csv(\"data/oos_eval_tennis/games_ge_40_test_unique.csv\", index=False)"
   ]
  },
  {
   "cell_type": "code",
   "execution_count": null,
   "metadata": {},
   "outputs": [],
   "source": []
  },
  {
   "cell_type": "code",
   "execution_count": 244,
   "metadata": {},
   "outputs": [],
   "source": [
    "self = TrueSkillThroughTimeApplied(games_ge_40_train_df)"
   ]
  },
  {
   "cell_type": "code",
   "execution_count": 245,
   "metadata": {},
   "outputs": [
    {
     "name": "stdout",
     "output_type": "stream",
     "text": [
      "\n",
      "gamma: 0.0200, sigma: 0.0200, beta: 0.0200, \n",
      "NLE: 183102.0220\n",
      "\n",
      "gamma: 0.0200, sigma: 0.0200, beta: 0.0200, \n",
      "NLE: 183102.0212\n",
      "\n",
      "gamma: 0.0200, sigma: 0.0200, beta: 0.0200, \n",
      "NLE: 183102.0220\n",
      "\n",
      "gamma: 0.0200, sigma: 0.0200, beta: 0.0200, \n",
      "NLE: 183102.0220\n",
      "\n",
      "gamma: 0.0500, sigma: 0.0500, beta: 0.0500, \n",
      "NLE: 189074.3190\n",
      "\n",
      "gamma: 0.0500, sigma: 0.0500, beta: 0.0500, \n",
      "NLE: 189074.3196\n",
      "\n",
      "gamma: 0.0500, sigma: 0.0500, beta: 0.0500, \n",
      "NLE: 189074.3189\n",
      "\n",
      "gamma: 0.0500, sigma: 0.0500, beta: 0.0500, \n",
      "NLE: 189074.3190\n",
      "\n",
      "gamma: 0.0260, sigma: 0.0260, beta: 0.0260, \n",
      "NLE: 182564.0185\n",
      "\n",
      "gamma: 0.0260, sigma: 0.0260, beta: 0.0260, \n",
      "NLE: 182564.0179\n",
      "\n",
      "gamma: 0.0260, sigma: 0.0260, beta: 0.0260, \n",
      "NLE: 182564.0185\n",
      "\n",
      "gamma: 0.0260, sigma: 0.0260, beta: 0.0260, \n",
      "NLE: 182564.0185\n",
      "\n",
      "gamma: 0.0500, sigma: 0.0500, beta: 0.0500, \n",
      "NLE: 180774.8338\n",
      "\n",
      "gamma: 0.0500, sigma: 0.0500, beta: 0.0500, \n",
      "NLE: 180774.8344\n",
      "\n",
      "gamma: 0.0500, sigma: 0.0500, beta: 0.0500, \n",
      "NLE: 180774.8338\n",
      "\n",
      "gamma: 0.0500, sigma: 0.0500, beta: 0.0500, \n",
      "NLE: 180774.8338\n",
      "\n",
      "gamma: 0.0500, sigma: 0.0500, beta: 0.0500, \n",
      "NLE: 180761.1188\n",
      "\n",
      "gamma: 0.0500, sigma: 0.0500, beta: 0.0500, \n",
      "NLE: 180761.1194\n",
      "\n",
      "gamma: 0.0500, sigma: 0.0500, beta: 0.0500, \n",
      "NLE: 180761.1188\n",
      "\n",
      "gamma: 0.0500, sigma: 0.0500, beta: 0.0500, \n",
      "NLE: 180761.1188\n",
      "\n",
      "gamma: 0.0500, sigma: 0.0500, beta: 0.0500, \n",
      "NLE: 180716.4104\n",
      "\n",
      "gamma: 0.0500, sigma: 0.0500, beta: 0.0500, \n",
      "NLE: 180716.4110\n",
      "\n",
      "gamma: 0.0500, sigma: 0.0500, beta: 0.0500, \n",
      "NLE: 180716.4104\n",
      "\n",
      "gamma: 0.0500, sigma: 0.0500, beta: 0.0500, \n",
      "NLE: 180716.4104\n",
      "\n",
      "gamma: 0.0500, sigma: 0.0500, beta: 0.0500, \n",
      "NLE: 180465.7164\n",
      "\n",
      "gamma: 0.0500, sigma: 0.0500, beta: 0.0500, \n",
      "NLE: 180465.7171\n",
      "\n",
      "gamma: 0.0500, sigma: 0.0500, beta: 0.0500, \n",
      "NLE: 180465.7165\n",
      "\n",
      "gamma: 0.0500, sigma: 0.0500, beta: 0.0500, \n",
      "NLE: 180465.7164\n",
      "\n",
      "gamma: 0.0500, sigma: 0.0500, beta: 0.0500, \n",
      "NLE: 179481.6471\n",
      "\n",
      "gamma: 0.0500, sigma: 0.0500, beta: 0.0500, \n",
      "NLE: 179481.6476\n",
      "\n",
      "gamma: 0.0500, sigma: 0.0500, beta: 0.0500, \n",
      "NLE: 179481.6472\n",
      "\n",
      "gamma: 0.0500, sigma: 0.0500, beta: 0.0500, \n",
      "NLE: 179481.6471\n",
      "\n",
      "gamma: 0.0500, sigma: 0.0500, beta: 0.0500, \n",
      "NLE: 178883.4273\n",
      "\n",
      "gamma: 0.0500, sigma: 0.0500, beta: 0.0500, \n",
      "NLE: 178883.4279\n",
      "\n",
      "gamma: 0.0500, sigma: 0.0500, beta: 0.0500, \n",
      "NLE: 178883.4273\n",
      "\n",
      "gamma: 0.0500, sigma: 0.0500, beta: 0.0500, \n",
      "NLE: 178883.4273\n",
      "\n",
      "gamma: 0.0500, sigma: 0.0500, beta: 0.0500, \n",
      "NLE: 177714.1451\n",
      "\n",
      "gamma: 0.0500, sigma: 0.0500, beta: 0.0500, \n",
      "NLE: 177714.1457\n",
      "\n",
      "gamma: 0.0500, sigma: 0.0500, beta: 0.0500, \n",
      "NLE: 177714.1452\n",
      "\n",
      "gamma: 0.0500, sigma: 0.0500, beta: 0.0500, \n",
      "NLE: 177714.1452\n",
      "\n",
      "gamma: 0.0500, sigma: 0.0500, beta: 0.0500, \n",
      "NLE: 177618.9780\n",
      "\n",
      "gamma: 0.0500, sigma: 0.0500, beta: 0.0500, \n",
      "NLE: 177618.9785\n",
      "\n",
      "gamma: 0.0500, sigma: 0.0500, beta: 0.0500, \n",
      "NLE: 177618.9781\n",
      "\n",
      "gamma: 0.0500, sigma: 0.0500, beta: 0.0500, \n",
      "NLE: 177618.9780\n",
      "optimal gamma : 0.0500\n",
      "optimal sigma : 0.5000\n",
      "optimal beta : 0.5000\n"
     ]
    }
   ],
   "source": [
    "self.learn_optimal_parameters()"
   ]
  },
  {
   "cell_type": "code",
   "execution_count": 246,
   "metadata": {},
   "outputs": [],
   "source": [
    "#NLE: 177618.9780\n",
    "optimal_gamma = 0.0500\n",
    "optimal_sigma = 0.5000\n",
    "optimal_beta = 0.5000\n",
    "self.set_optimal_parameters(gamma = optimal_gamma, sigma = optimal_sigma, beta = optimal_beta)"
   ]
  },
  {
   "cell_type": "code",
   "execution_count": 247,
   "metadata": {},
   "outputs": [],
   "source": [
    "skill_curves = self.set_skill_curves()"
   ]
  },
  {
   "cell_type": "code",
   "execution_count": 248,
   "metadata": {},
   "outputs": [
    {
     "name": "stderr",
     "output_type": "stream",
     "text": [
      "/Users/davidliu/Desktop/Python312/true_theta/posts/trueskill/true_skill_through_time.py:214: FutureWarning: The default of observed=False is deprecated and will be changed to True in a future version of pandas. Pass observed=False to retain current behavior or observed=True to adopt the future default and silence this warning.\n",
      "  bucket_means = df.groupby('win_prob_bucket').agg(\n"
     ]
    },
    {
     "data": {
      "text/html": [
       "\n",
       "<style>\n",
       "  #altair-viz-fe845bb0847444c09cd58646c63a22fd.vega-embed {\n",
       "    width: 100%;\n",
       "    display: flex;\n",
       "  }\n",
       "\n",
       "  #altair-viz-fe845bb0847444c09cd58646c63a22fd.vega-embed details,\n",
       "  #altair-viz-fe845bb0847444c09cd58646c63a22fd.vega-embed details summary {\n",
       "    position: relative;\n",
       "  }\n",
       "</style>\n",
       "<div id=\"altair-viz-fe845bb0847444c09cd58646c63a22fd\"></div>\n",
       "<script type=\"text/javascript\">\n",
       "  var VEGA_DEBUG = (typeof VEGA_DEBUG == \"undefined\") ? {} : VEGA_DEBUG;\n",
       "  (function(spec, embedOpt){\n",
       "    let outputDiv = document.currentScript.previousElementSibling;\n",
       "    if (outputDiv.id !== \"altair-viz-fe845bb0847444c09cd58646c63a22fd\") {\n",
       "      outputDiv = document.getElementById(\"altair-viz-fe845bb0847444c09cd58646c63a22fd\");\n",
       "    }\n",
       "    const paths = {\n",
       "      \"vega\": \"https://cdn.jsdelivr.net/npm/vega@5?noext\",\n",
       "      \"vega-lib\": \"https://cdn.jsdelivr.net/npm/vega-lib?noext\",\n",
       "      \"vega-lite\": \"https://cdn.jsdelivr.net/npm/vega-lite@5.20.1?noext\",\n",
       "      \"vega-embed\": \"https://cdn.jsdelivr.net/npm/vega-embed@6?noext\",\n",
       "    };\n",
       "\n",
       "    function maybeLoadScript(lib, version) {\n",
       "      var key = `${lib.replace(\"-\", \"\")}_version`;\n",
       "      return (VEGA_DEBUG[key] == version) ?\n",
       "        Promise.resolve(paths[lib]) :\n",
       "        new Promise(function(resolve, reject) {\n",
       "          var s = document.createElement('script');\n",
       "          document.getElementsByTagName(\"head\")[0].appendChild(s);\n",
       "          s.async = true;\n",
       "          s.onload = () => {\n",
       "            VEGA_DEBUG[key] = version;\n",
       "            return resolve(paths[lib]);\n",
       "          };\n",
       "          s.onerror = () => reject(`Error loading script: ${paths[lib]}`);\n",
       "          s.src = paths[lib];\n",
       "        });\n",
       "    }\n",
       "\n",
       "    function showError(err) {\n",
       "      outputDiv.innerHTML = `<div class=\"error\" style=\"color:red;\">${err}</div>`;\n",
       "      throw err;\n",
       "    }\n",
       "\n",
       "    function displayChart(vegaEmbed) {\n",
       "      vegaEmbed(outputDiv, spec, embedOpt)\n",
       "        .catch(err => showError(`Javascript Error: ${err.message}<br>This usually means there's a typo in your chart specification. See the javascript console for the full traceback.`));\n",
       "    }\n",
       "\n",
       "    if(typeof define === \"function\" && define.amd) {\n",
       "      requirejs.config({paths});\n",
       "      require([\"vega-embed\"], displayChart, err => showError(`Error loading script: ${err.message}`));\n",
       "    } else {\n",
       "      maybeLoadScript(\"vega\", \"5\")\n",
       "        .then(() => maybeLoadScript(\"vega-lite\", \"5.20.1\"))\n",
       "        .then(() => maybeLoadScript(\"vega-embed\", \"6\"))\n",
       "        .catch(showError)\n",
       "        .then(() => displayChart(vegaEmbed));\n",
       "    }\n",
       "  })({\"config\": {\"view\": {\"continuousWidth\": 300, \"continuousHeight\": 300}}, \"layer\": [{\"data\": {\"name\": \"data-42f50405073b2dbe8396db6b7dd2f6be\"}, \"mark\": {\"type\": \"line\", \"color\": \"black\", \"strokeDash\": [12, 12]}, \"encoding\": {\"x\": {\"field\": \"x\", \"type\": \"quantitative\"}, \"y\": {\"field\": \"y\", \"type\": \"quantitative\"}}}, {\"data\": {\"name\": \"data-8bbdfca527b25cb59c448df546f5fa04\"}, \"mark\": {\"type\": \"line\", \"strokeWidth\": 4}, \"encoding\": {\"x\": {\"field\": \"win_prob_midpoint\", \"title\": \"Predicted Win Probability\", \"type\": \"quantitative\"}, \"y\": {\"field\": \"avg_outcome\", \"title\": \"Average Outcome\", \"type\": \"quantitative\"}}}, {\"data\": {\"name\": \"data-8bbdfca527b25cb59c448df546f5fa04\"}, \"mark\": {\"type\": \"point\", \"fill\": \"white\", \"opacity\": 1, \"size\": 200, \"strokeWidth\": 4}, \"encoding\": {\"x\": {\"field\": \"win_prob_midpoint\", \"type\": \"quantitative\"}, \"y\": {\"field\": \"avg_outcome\", \"type\": \"quantitative\"}}}], \"height\": 400, \"title\": \"Calibration Plot In-Sample\", \"width\": 400, \"$schema\": \"https://vega.github.io/schema/vega-lite/v5.20.1.json\", \"datasets\": {\"data-42f50405073b2dbe8396db6b7dd2f6be\": [{\"x\": 0, \"y\": 0}, {\"x\": 1, \"y\": 1}], \"data-8bbdfca527b25cb59c448df546f5fa04\": [{\"avg_outcome\": 0.0760529736185759, \"win_prob_midpoint\": 0.17166432661834585}, {\"avg_outcome\": 0.17606969718260382, \"win_prob_midpoint\": 0.29277881454513544}, {\"avg_outcome\": 0.2681093234033584, \"win_prob_midpoint\": 0.3634007013347377}, {\"avg_outcome\": 0.3545508834791162, \"win_prob_midpoint\": 0.42114093419853305}, {\"avg_outcome\": 0.45152111290662544, \"win_prob_midpoint\": 0.4739396864022907}, {\"avg_outcome\": 0.54356073912738, \"win_prob_midpoint\": 0.5255843802728682}, {\"avg_outcome\": 0.6412688376014333, \"win_prob_midpoint\": 0.578838738313227}, {\"avg_outcome\": 0.7365980467926649, \"win_prob_midpoint\": 0.6369283810822741}, {\"avg_outcome\": 0.8206983770111712, \"win_prob_midpoint\": 0.708242080400783}, {\"avg_outcome\": 0.9237011276214564, \"win_prob_midpoint\": 0.8294008992541906}]}}, {\"mode\": \"vega-lite\"});\n",
       "</script>"
      ],
      "text/plain": [
       "alt.LayerChart(...)"
      ]
     },
     "execution_count": 248,
     "metadata": {},
     "output_type": "execute_result"
    }
   ],
   "source": [
    "self.plot_calibration()"
   ]
  },
  {
   "cell_type": "code",
   "execution_count": 249,
   "metadata": {},
   "outputs": [
    {
     "name": "stderr",
     "output_type": "stream",
     "text": [
      "/Users/davidliu/Desktop/Python312/true_theta/posts/trueskill/true_skill_through_time.py:275: FutureWarning: The default of observed=False is deprecated and will be changed to True in a future version of pandas. Pass observed=False to retain current behavior or observed=True to adopt the future default and silence this warning.\n",
      "  bucket_means = df.groupby('win_prob_bucket').agg(\n"
     ]
    },
    {
     "data": {
      "text/html": [
       "\n",
       "<style>\n",
       "  #altair-viz-60444a8959b84833bf48dcb6fa6ad5a2.vega-embed {\n",
       "    width: 100%;\n",
       "    display: flex;\n",
       "  }\n",
       "\n",
       "  #altair-viz-60444a8959b84833bf48dcb6fa6ad5a2.vega-embed details,\n",
       "  #altair-viz-60444a8959b84833bf48dcb6fa6ad5a2.vega-embed details summary {\n",
       "    position: relative;\n",
       "  }\n",
       "</style>\n",
       "<div id=\"altair-viz-60444a8959b84833bf48dcb6fa6ad5a2\"></div>\n",
       "<script type=\"text/javascript\">\n",
       "  var VEGA_DEBUG = (typeof VEGA_DEBUG == \"undefined\") ? {} : VEGA_DEBUG;\n",
       "  (function(spec, embedOpt){\n",
       "    let outputDiv = document.currentScript.previousElementSibling;\n",
       "    if (outputDiv.id !== \"altair-viz-60444a8959b84833bf48dcb6fa6ad5a2\") {\n",
       "      outputDiv = document.getElementById(\"altair-viz-60444a8959b84833bf48dcb6fa6ad5a2\");\n",
       "    }\n",
       "    const paths = {\n",
       "      \"vega\": \"https://cdn.jsdelivr.net/npm/vega@5?noext\",\n",
       "      \"vega-lib\": \"https://cdn.jsdelivr.net/npm/vega-lib?noext\",\n",
       "      \"vega-lite\": \"https://cdn.jsdelivr.net/npm/vega-lite@5.20.1?noext\",\n",
       "      \"vega-embed\": \"https://cdn.jsdelivr.net/npm/vega-embed@6?noext\",\n",
       "    };\n",
       "\n",
       "    function maybeLoadScript(lib, version) {\n",
       "      var key = `${lib.replace(\"-\", \"\")}_version`;\n",
       "      return (VEGA_DEBUG[key] == version) ?\n",
       "        Promise.resolve(paths[lib]) :\n",
       "        new Promise(function(resolve, reject) {\n",
       "          var s = document.createElement('script');\n",
       "          document.getElementsByTagName(\"head\")[0].appendChild(s);\n",
       "          s.async = true;\n",
       "          s.onload = () => {\n",
       "            VEGA_DEBUG[key] = version;\n",
       "            return resolve(paths[lib]);\n",
       "          };\n",
       "          s.onerror = () => reject(`Error loading script: ${paths[lib]}`);\n",
       "          s.src = paths[lib];\n",
       "        });\n",
       "    }\n",
       "\n",
       "    function showError(err) {\n",
       "      outputDiv.innerHTML = `<div class=\"error\" style=\"color:red;\">${err}</div>`;\n",
       "      throw err;\n",
       "    }\n",
       "\n",
       "    function displayChart(vegaEmbed) {\n",
       "      vegaEmbed(outputDiv, spec, embedOpt)\n",
       "        .catch(err => showError(`Javascript Error: ${err.message}<br>This usually means there's a typo in your chart specification. See the javascript console for the full traceback.`));\n",
       "    }\n",
       "\n",
       "    if(typeof define === \"function\" && define.amd) {\n",
       "      requirejs.config({paths});\n",
       "      require([\"vega-embed\"], displayChart, err => showError(`Error loading script: ${err.message}`));\n",
       "    } else {\n",
       "      maybeLoadScript(\"vega\", \"5\")\n",
       "        .then(() => maybeLoadScript(\"vega-lite\", \"5.20.1\"))\n",
       "        .then(() => maybeLoadScript(\"vega-embed\", \"6\"))\n",
       "        .catch(showError)\n",
       "        .then(() => displayChart(vegaEmbed));\n",
       "    }\n",
       "  })({\"config\": {\"view\": {\"continuousWidth\": 300, \"continuousHeight\": 300}}, \"layer\": [{\"data\": {\"name\": \"data-42f50405073b2dbe8396db6b7dd2f6be\"}, \"mark\": {\"type\": \"line\", \"color\": \"black\", \"strokeDash\": [12, 12]}, \"encoding\": {\"x\": {\"field\": \"x\", \"type\": \"quantitative\"}, \"y\": {\"field\": \"y\", \"type\": \"quantitative\"}}}, {\"data\": {\"name\": \"data-15ae3c4d600f515995420badfcef831e\"}, \"mark\": {\"type\": \"line\", \"strokeWidth\": 4}, \"encoding\": {\"x\": {\"field\": \"win_prob_midpoint\", \"title\": \"Predicted Win Probability\", \"type\": \"quantitative\"}, \"y\": {\"field\": \"avg_outcome\", \"title\": \"Average Outcome\", \"type\": \"quantitative\"}}}, {\"data\": {\"name\": \"data-15ae3c4d600f515995420badfcef831e\"}, \"mark\": {\"type\": \"point\", \"fill\": \"white\", \"opacity\": 1, \"size\": 200, \"strokeWidth\": 4}, \"encoding\": {\"x\": {\"field\": \"win_prob_midpoint\", \"type\": \"quantitative\"}, \"y\": {\"field\": \"avg_outcome\", \"type\": \"quantitative\"}}}], \"height\": 400, \"title\": \"Calibration Plot Out-Of-Sample\", \"width\": 400, \"$schema\": \"https://vega.github.io/schema/vega-lite/v5.20.1.json\", \"datasets\": {\"data-42f50405073b2dbe8396db6b7dd2f6be\": [{\"x\": 0, \"y\": 0}, {\"x\": 1, \"y\": 1}], \"data-15ae3c4d600f515995420badfcef831e\": [{\"avg_outcome\": 0.18069405664140406, \"win_prob_midpoint\": 0.15175884870675124}, {\"avg_outcome\": 0.29848363926576216, \"win_prob_midpoint\": 0.27703420038179655}, {\"avg_outcome\": 0.3663208300079808, \"win_prob_midpoint\": 0.3538341415529932}, {\"avg_outcome\": 0.4273743016759777, \"win_prob_midpoint\": 0.41529681238290045}, {\"avg_outcome\": 0.46887470071827614, \"win_prob_midpoint\": 0.47231088855763076}, {\"avg_outcome\": 0.5466879489225858, \"win_prob_midpoint\": 0.526759291975535}, {\"avg_outcome\": 0.5957701516360734, \"win_prob_midpoint\": 0.5812774179378205}, {\"avg_outcome\": 0.6380686352753392, \"win_prob_midpoint\": 0.6427531148194775}, {\"avg_outcome\": 0.7154828411811652, \"win_prob_midpoint\": 0.7177692300997435}, {\"avg_outcome\": 0.8097327483047467, \"win_prob_midpoint\": 0.8422240963414899}]}}, {\"mode\": \"vega-lite\"});\n",
       "</script>"
      ],
      "text/plain": [
       "alt.LayerChart(...)"
      ]
     },
     "execution_count": 249,
     "metadata": {},
     "output_type": "execute_result"
    }
   ],
   "source": [
    "self.plot_calibration_oos(oos_data=games_ge_40_test_unique_df)"
   ]
  },
  {
   "cell_type": "code",
   "execution_count": null,
   "metadata": {},
   "outputs": [],
   "source": []
  },
  {
   "cell_type": "code",
   "execution_count": 250,
   "metadata": {},
   "outputs": [
    {
     "name": "stderr",
     "output_type": "stream",
     "text": [
      "/var/folders/sg/52_wwpld14z_lvc4rf4zy9x00000gn/T/ipykernel_84161/3712090721.py:1: SettingWithCopyWarning: \n",
      "A value is trying to be set on a copy of a slice from a DataFrame.\n",
      "Try using .loc[row_indexer,col_indexer] = value instead\n",
      "\n",
      "See the caveats in the documentation: https://pandas.pydata.org/pandas-docs/stable/user_guide/indexing.html#returning-a-view-versus-a-copy\n",
      "  games_ge_40_test_unique_df['roc_label'] = games_ge_40_test_unique_df.apply(lambda row: row.winner < row.loser, axis=1).astype(int)\n"
     ]
    }
   ],
   "source": [
    "games_ge_40_test_unique_df['roc_label'] = games_ge_40_test_unique_df.apply(lambda row: row.winner < row.loser, axis=1).astype(int)"
   ]
  },
  {
   "cell_type": "code",
   "execution_count": 251,
   "metadata": {},
   "outputs": [],
   "source": [
    "def assign_players(row):\n",
    "    p1, p2 = sorted([row['winner'], row['loser']])\n",
    "    return pd.Series([p1, p2], index=['player1', 'player2'])"
   ]
  },
  {
   "cell_type": "code",
   "execution_count": 252,
   "metadata": {},
   "outputs": [
    {
     "name": "stderr",
     "output_type": "stream",
     "text": [
      "/var/folders/sg/52_wwpld14z_lvc4rf4zy9x00000gn/T/ipykernel_84161/3356886536.py:1: SettingWithCopyWarning: \n",
      "A value is trying to be set on a copy of a slice from a DataFrame.\n",
      "Try using .loc[row_indexer,col_indexer] = value instead\n",
      "\n",
      "See the caveats in the documentation: https://pandas.pydata.org/pandas-docs/stable/user_guide/indexing.html#returning-a-view-versus-a-copy\n",
      "  games_ge_40_test_unique_df[['player1', 'player2']] = games_ge_40_test_unique_df.apply(assign_players, axis=1)\n",
      "/var/folders/sg/52_wwpld14z_lvc4rf4zy9x00000gn/T/ipykernel_84161/3356886536.py:1: SettingWithCopyWarning: \n",
      "A value is trying to be set on a copy of a slice from a DataFrame.\n",
      "Try using .loc[row_indexer,col_indexer] = value instead\n",
      "\n",
      "See the caveats in the documentation: https://pandas.pydata.org/pandas-docs/stable/user_guide/indexing.html#returning-a-view-versus-a-copy\n",
      "  games_ge_40_test_unique_df[['player1', 'player2']] = games_ge_40_test_unique_df.apply(assign_players, axis=1)\n"
     ]
    }
   ],
   "source": [
    "games_ge_40_test_unique_df[['player1', 'player2']] = games_ge_40_test_unique_df.apply(assign_players, axis=1)"
   ]
  },
  {
   "cell_type": "code",
   "execution_count": 253,
   "metadata": {},
   "outputs": [],
   "source": [
    "curves_map = {k: {t: n for t, n in v} for k, v in skill_curves.items()}\n",
    "last_curves_map = {k: v[-1][1] for k, v in self.skill_curves.items()}"
   ]
  },
  {
   "cell_type": "code",
   "execution_count": 254,
   "metadata": {},
   "outputs": [],
   "source": [
    "df = []\n",
    "for _, row in games_ge_40_test_unique_df.iterrows():\n",
    "    c1, c2 = row['player1'], row['player2']\n",
    "    if c1 in last_curves_map and c2 in last_curves_map:\n",
    "        normal_1, normal_2 = last_curves_map[c1], last_curves_map[c2]\n",
    "        mu_diff = normal_1.mu - normal_2.mu\n",
    "        sigma2_diff = normal_1.sigma ** 2 + normal_2.sigma ** 2 + 2 * (self.beta_optimal ** 2)\n",
    "        #use norm.cdf to speed up the prob calculation, P(X > 0) = 1 - P(X ≤ 0)\n",
    "        c1_win_prob = 1 - norm.cdf(0, mu_diff, sigma2_diff ** .5)\n",
    "        df.append([c1, c2, c1_win_prob])\n",
    "df = pd.DataFrame(df, columns=['player1', 'player2', 'player1_win_prob']).dropna()"
   ]
  },
  {
   "cell_type": "code",
   "execution_count": 260,
   "metadata": {},
   "outputs": [],
   "source": [
    "merged_df = pd.merge(games_ge_40_test_unique_df, df, on=['player1', 'player2']).drop_duplicates()"
   ]
  },
  {
   "cell_type": "code",
   "execution_count": 261,
   "metadata": {},
   "outputs": [
    {
     "data": {
      "text/plain": [
       "(26301, 25062, 25062)"
      ]
     },
     "execution_count": 261,
     "metadata": {},
     "output_type": "execute_result"
    }
   ],
   "source": [
    "len(games_ge_40_test_unique_df), len(df), len(merged_df)"
   ]
  },
  {
   "cell_type": "code",
   "execution_count": 262,
   "metadata": {},
   "outputs": [
    {
     "data": {
      "text/plain": [
       "roc_label\n",
       "1    12616\n",
       "0    12446\n",
       "Name: count, dtype: int64"
      ]
     },
     "execution_count": 262,
     "metadata": {},
     "output_type": "execute_result"
    }
   ],
   "source": [
    "merged_df.roc_label.value_counts()"
   ]
  },
  {
   "cell_type": "code",
   "execution_count": 263,
   "metadata": {},
   "outputs": [
    {
     "data": {
      "text/plain": [
       "np.float64(0.713066331141527)"
      ]
     },
     "execution_count": 263,
     "metadata": {},
     "output_type": "execute_result"
    }
   ],
   "source": [
    "roc_auc_score(merged_df.roc_label, merged_df.player1_win_prob)"
   ]
  },
  {
   "cell_type": "code",
   "execution_count": null,
   "metadata": {},
   "outputs": [],
   "source": []
  },
  {
   "cell_type": "code",
   "execution_count": null,
   "metadata": {},
   "outputs": [],
   "source": []
  }
 ],
 "metadata": {
  "kernelspec": {
   "display_name": "trueskill_env",
   "language": "python",
   "name": "python3"
  },
  "language_info": {
   "codemirror_mode": {
    "name": "ipython",
    "version": 3
   },
   "file_extension": ".py",
   "mimetype": "text/x-python",
   "name": "python",
   "nbconvert_exporter": "python",
   "pygments_lexer": "ipython3",
   "version": "3.12.0"
  }
 },
 "nbformat": 4,
 "nbformat_minor": 2
}
