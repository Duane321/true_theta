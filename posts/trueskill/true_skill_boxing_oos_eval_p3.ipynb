{
 "cells": [
  {
   "cell_type": "code",
   "execution_count": 18,
   "id": "84535183-3ab4-48a1-8a5e-95b0811e2398",
   "metadata": {},
   "outputs": [],
   "source": [
    "import pandas as pd\n",
    "import numpy as np\n",
    "import altair as alt\n",
    "import requests\n",
    "from bs4 import BeautifulSoup\n",
    "import json\n",
    "from sklearn.model_selection import train_test_split\n",
    "from scipy.integrate import quad\n",
    "from scipy.stats import norm\n",
    "import matplotlib.pyplot as plt\n",
    "from sklearn.metrics import precision_recall_curve, roc_auc_score"
   ]
  },
  {
   "cell_type": "code",
   "execution_count": 4,
   "id": "81db72cb",
   "metadata": {},
   "outputs": [],
   "source": [
    "from true_skill_through_time import *"
   ]
  },
  {
   "cell_type": "code",
   "execution_count": 5,
   "id": "07ec7ea7",
   "metadata": {},
   "outputs": [],
   "source": [
    "games_ge_40_train_df = pd.read_csv(\"data/oos_eval/games_ge_40_train.csv\")\n",
    "games_ge_40_test_df = pd.read_csv(\"data/oos_eval/games_ge_40_test.csv\")"
   ]
  },
  {
   "cell_type": "code",
   "execution_count": 6,
   "id": "4b18295d",
   "metadata": {},
   "outputs": [],
   "source": [
    "games_ge_40_train_df.timestamp = pd.to_datetime(games_ge_40_train_df.timestamp)\n",
    "games_ge_40_test_df.timestamp = pd.to_datetime(games_ge_40_test_df.timestamp)"
   ]
  },
  {
   "cell_type": "code",
   "execution_count": 7,
   "id": "185b5b84",
   "metadata": {},
   "outputs": [
    {
     "data": {
      "text/plain": [
       "16946"
      ]
     },
     "execution_count": 7,
     "metadata": {},
     "output_type": "execute_result"
    }
   ],
   "source": [
    "len(games_ge_40_train_df)"
   ]
  },
  {
   "cell_type": "code",
   "execution_count": null,
   "id": "39d2145b",
   "metadata": {},
   "outputs": [],
   "source": []
  },
  {
   "cell_type": "code",
   "execution_count": 8,
   "id": "64a96768",
   "metadata": {},
   "outputs": [],
   "source": [
    "self = TrueSkillThroughTimeApplied(games_ge_40_train_df)"
   ]
  },
  {
   "cell_type": "code",
   "execution_count": 9,
   "id": "980c0c3e",
   "metadata": {},
   "outputs": [
    {
     "name": "stdout",
     "output_type": "stream",
     "text": [
      "   game_index            winner                     loser  timestamp  time_0_to_999_int\n",
      "0           3  John L. Sullivan               Jack Curley 1879-03-13                  0\n",
      "1           4  John L. Sullivan        Johnny Cocky Woods 1879-03-14                  0\n",
      "2           6  John L. Sullivan              George Rooke 1879-06-28                  2\n",
      "3           7  John L. Sullivan                 Dan Dwyer 1879-06-28                  2\n",
      "4           9  John L. Sullivan  Professor John Donaldson 1880-12-24                 12\n"
     ]
    }
   ],
   "source": [
    "print(games_ge_40_train_df.head().to_string())"
   ]
  },
  {
   "cell_type": "code",
   "execution_count": 8,
   "id": "53475c7e",
   "metadata": {},
   "outputs": [
    {
     "name": "stdout",
     "output_type": "stream",
     "text": [
      "\n",
      "gamma: 0.0200, sigma: 0.0200, beta: 0.0200, \n",
      "NLE: 6257.7669\n",
      "\n",
      "gamma: 0.0200, sigma: 0.0200, beta: 0.0200, \n",
      "NLE: 6257.7669\n",
      "\n",
      "gamma: 0.0200, sigma: 0.0200, beta: 0.0200, \n",
      "NLE: 6257.7669\n",
      "\n",
      "gamma: 0.0200, sigma: 0.0200, beta: 0.0200, \n",
      "NLE: 6257.7669\n",
      "\n",
      "gamma: 0.1000, sigma: 0.1000, beta: 0.1000, \n",
      "NLE: 11375.0479\n",
      "\n",
      "gamma: 0.1000, sigma: 0.1000, beta: 0.1000, \n",
      "NLE: 11375.0480\n",
      "\n",
      "gamma: 0.1000, sigma: 0.1000, beta: 0.1000, \n",
      "NLE: 11375.0479\n",
      "\n",
      "gamma: 0.1000, sigma: 0.1000, beta: 0.1000, \n",
      "NLE: 11375.0479\n",
      "\n",
      "gamma: 0.0281, sigma: 0.0281, beta: 0.0281, \n",
      "NLE: 5976.7386\n",
      "\n",
      "gamma: 0.0281, sigma: 0.0281, beta: 0.0281, \n",
      "NLE: 5976.7386\n",
      "\n",
      "gamma: 0.0281, sigma: 0.0281, beta: 0.0281, \n",
      "NLE: 5976.7386\n",
      "\n",
      "gamma: 0.0281, sigma: 0.0281, beta: 0.0281, \n",
      "NLE: 5976.7386\n",
      "\n",
      "gamma: 0.1000, sigma: 0.1000, beta: 0.1000, \n",
      "NLE: 5902.5022\n",
      "\n",
      "gamma: 0.1000, sigma: 0.1000, beta: 0.1000, \n",
      "NLE: 5902.5022\n",
      "\n",
      "gamma: 0.1000, sigma: 0.1000, beta: 0.1000, \n",
      "NLE: 5902.5022\n",
      "\n",
      "gamma: 0.1000, sigma: 0.1000, beta: 0.1000, \n",
      "NLE: 5902.5022\n",
      "\n",
      "gamma: 0.1000, sigma: 0.1000, beta: 0.1000, \n",
      "NLE: 5900.6053\n",
      "\n",
      "gamma: 0.1000, sigma: 0.1000, beta: 0.1000, \n",
      "NLE: 5900.6053\n",
      "\n",
      "gamma: 0.1000, sigma: 0.1000, beta: 0.1000, \n",
      "NLE: 5900.6053\n",
      "\n",
      "gamma: 0.1000, sigma: 0.1000, beta: 0.1000, \n",
      "NLE: 5900.6053\n",
      "\n",
      "gamma: 0.1000, sigma: 0.1000, beta: 0.1000, \n",
      "NLE: 5899.5158\n",
      "\n",
      "gamma: 0.1000, sigma: 0.1000, beta: 0.1000, \n",
      "NLE: 5899.5158\n",
      "\n",
      "gamma: 0.1000, sigma: 0.1000, beta: 0.1000, \n",
      "NLE: 5899.5158\n",
      "\n",
      "gamma: 0.1000, sigma: 0.1000, beta: 0.1000, \n",
      "NLE: 5899.5158\n",
      "\n",
      "gamma: 0.1000, sigma: 0.1000, beta: 0.1000, \n",
      "NLE: 5898.9602\n",
      "\n",
      "gamma: 0.1000, sigma: 0.1000, beta: 0.1000, \n",
      "NLE: 5898.9602\n",
      "\n",
      "gamma: 0.1000, sigma: 0.1000, beta: 0.1000, \n",
      "NLE: 5898.9602\n",
      "\n",
      "gamma: 0.1000, sigma: 0.1000, beta: 0.1000, \n",
      "NLE: 5898.9602\n",
      "\n",
      "gamma: 0.1000, sigma: 0.1000, beta: 0.1000, \n",
      "NLE: 5893.2639\n",
      "\n",
      "gamma: 0.1000, sigma: 0.1000, beta: 0.1000, \n",
      "NLE: 5893.2639\n",
      "\n",
      "gamma: 0.1000, sigma: 0.1000, beta: 0.1000, \n",
      "NLE: 5893.2639\n",
      "\n",
      "gamma: 0.1000, sigma: 0.1000, beta: 0.1000, \n",
      "NLE: 5893.2639\n",
      "\n",
      "gamma: 0.1000, sigma: 0.1000, beta: 0.1000, \n",
      "NLE: 5884.8671\n",
      "\n",
      "gamma: 0.1000, sigma: 0.1000, beta: 0.1000, \n",
      "NLE: 5884.8671\n",
      "\n",
      "gamma: 0.1000, sigma: 0.1000, beta: 0.1000, \n",
      "NLE: 5884.8671\n",
      "\n",
      "gamma: 0.1000, sigma: 0.1000, beta: 0.1000, \n",
      "NLE: 5884.8671\n",
      "\n",
      "gamma: 0.1000, sigma: 0.1000, beta: 0.1000, \n",
      "NLE: 6907.8524\n",
      "\n",
      "gamma: 0.1000, sigma: 0.1000, beta: 0.1000, \n",
      "NLE: 6907.8524\n",
      "\n",
      "gamma: 0.1000, sigma: 0.1000, beta: 0.1000, \n",
      "NLE: 6907.8524\n",
      "\n",
      "gamma: 0.1000, sigma: 0.1000, beta: 0.1000, \n",
      "NLE: 6907.8524\n",
      "\n",
      "gamma: 0.1000, sigma: 0.1000, beta: 0.1000, \n",
      "NLE: 5851.4255\n",
      "\n",
      "gamma: 0.1000, sigma: 0.1000, beta: 0.1000, \n",
      "NLE: 5851.4255\n",
      "\n",
      "gamma: 0.1000, sigma: 0.1000, beta: 0.1000, \n",
      "NLE: 5851.4255\n",
      "\n",
      "gamma: 0.1000, sigma: 0.1000, beta: 0.1000, \n",
      "NLE: 5851.4255\n",
      "\n",
      "gamma: 0.1000, sigma: 0.1000, beta: 0.1000, \n",
      "NLE: 5814.5600\n",
      "\n",
      "gamma: 0.1000, sigma: 0.1000, beta: 0.1000, \n",
      "NLE: 5814.5600\n",
      "\n",
      "gamma: 0.1000, sigma: 0.1000, beta: 0.1000, \n",
      "NLE: 5814.5600\n",
      "\n",
      "gamma: 0.1000, sigma: 0.1000, beta: 0.1000, \n",
      "NLE: 5814.5600\n",
      "\n",
      "gamma: 0.1000, sigma: 0.1000, beta: 0.1000, \n",
      "NLE: 6907.8524\n",
      "\n",
      "gamma: 0.1000, sigma: 0.1000, beta: 0.1000, \n",
      "NLE: 6907.8524\n",
      "\n",
      "gamma: 0.1000, sigma: 0.1000, beta: 0.1000, \n",
      "NLE: 6907.8524\n",
      "\n",
      "gamma: 0.1000, sigma: 0.1000, beta: 0.1000, \n",
      "NLE: 6907.8524\n",
      "\n",
      "gamma: 0.1000, sigma: 0.1000, beta: 0.1000, \n",
      "NLE: 5820.7515\n",
      "\n",
      "gamma: 0.1000, sigma: 0.1000, beta: 0.1000, \n",
      "NLE: 5820.7515\n",
      "\n",
      "gamma: 0.1000, sigma: 0.1000, beta: 0.1000, \n",
      "NLE: 5820.7515\n",
      "\n",
      "gamma: 0.1000, sigma: 0.1000, beta: 0.1000, \n",
      "NLE: 5820.7515\n",
      "\n",
      "gamma: 0.1000, sigma: 0.1000, beta: 0.1000, \n",
      "NLE: 5814.5328\n",
      "\n",
      "gamma: 0.1000, sigma: 0.1000, beta: 0.1000, \n",
      "NLE: 5814.5328\n",
      "\n",
      "gamma: 0.1000, sigma: 0.1000, beta: 0.1000, \n",
      "NLE: 5814.5328\n",
      "\n",
      "gamma: 0.1000, sigma: 0.1000, beta: 0.1000, \n",
      "NLE: 5814.5328\n",
      "\n",
      "gamma: 0.1000, sigma: 0.1000, beta: 0.1000, \n",
      "NLE: 6000.5088\n",
      "\n",
      "gamma: 0.1000, sigma: 0.1000, beta: 0.1000, \n",
      "NLE: 6000.5088\n",
      "\n",
      "gamma: 0.1000, sigma: 0.1000, beta: 0.1000, \n",
      "NLE: 6000.5088\n",
      "\n",
      "gamma: 0.1000, sigma: 0.1000, beta: 0.1000, \n",
      "NLE: 6000.5088\n",
      "\n",
      "gamma: 0.1000, sigma: 0.1000, beta: 0.1000, \n",
      "NLE: 5791.8688\n",
      "\n",
      "gamma: 0.1000, sigma: 0.1000, beta: 0.1000, \n",
      "NLE: 5791.8688\n",
      "\n",
      "gamma: 0.1000, sigma: 0.1000, beta: 0.1000, \n",
      "NLE: 5791.8688\n",
      "\n",
      "gamma: 0.1000, sigma: 0.1000, beta: 0.1000, \n",
      "NLE: 5791.8688\n",
      "\n",
      "gamma: 0.0293, sigma: 0.0293, beta: 0.0293, \n",
      "NLE: 6010.0840\n",
      "\n",
      "gamma: 0.0293, sigma: 0.0293, beta: 0.0293, \n",
      "NLE: 6010.0839\n",
      "\n",
      "gamma: 0.0293, sigma: 0.0293, beta: 0.0293, \n",
      "NLE: 6010.0840\n",
      "\n",
      "gamma: 0.0293, sigma: 0.0293, beta: 0.0293, \n",
      "NLE: 6010.0840\n",
      "\n",
      "gamma: 0.0940, sigma: 0.0940, beta: 0.0940, \n",
      "NLE: 5789.9381\n",
      "\n",
      "gamma: 0.0940, sigma: 0.0940, beta: 0.0940, \n",
      "NLE: 5789.9381\n",
      "\n",
      "gamma: 0.0940, sigma: 0.0940, beta: 0.0940, \n",
      "NLE: 5789.9381\n",
      "\n",
      "gamma: 0.0940, sigma: 0.0940, beta: 0.0940, \n",
      "NLE: 5789.9381\n",
      "\n",
      "gamma: 0.0337, sigma: 0.0337, beta: 0.0337, \n",
      "NLE: 5847.2889\n",
      "\n",
      "gamma: 0.0337, sigma: 0.0337, beta: 0.0337, \n",
      "NLE: 5847.2888\n",
      "\n",
      "gamma: 0.0337, sigma: 0.0337, beta: 0.0337, \n",
      "NLE: 5847.2889\n",
      "\n",
      "gamma: 0.0337, sigma: 0.0337, beta: 0.0337, \n",
      "NLE: 5847.2889\n",
      "\n",
      "gamma: 0.0765, sigma: 0.0765, beta: 0.0765, \n",
      "NLE: 5787.3215\n",
      "\n",
      "gamma: 0.0765, sigma: 0.0765, beta: 0.0765, \n",
      "NLE: 5787.3215\n",
      "\n",
      "gamma: 0.0765, sigma: 0.0765, beta: 0.0765, \n",
      "NLE: 5787.3215\n",
      "\n",
      "gamma: 0.0765, sigma: 0.0765, beta: 0.0765, \n",
      "NLE: 5787.3215\n",
      "\n",
      "gamma: 0.0699, sigma: 0.0699, beta: 0.0699, \n",
      "NLE: 5788.4523\n",
      "\n",
      "gamma: 0.0699, sigma: 0.0699, beta: 0.0699, \n",
      "NLE: 5788.4523\n",
      "\n",
      "gamma: 0.0699, sigma: 0.0699, beta: 0.0699, \n",
      "NLE: 5788.4523\n",
      "\n",
      "gamma: 0.0699, sigma: 0.0699, beta: 0.0699, \n",
      "NLE: 5788.4523\n",
      "\n",
      "gamma: 0.0753, sigma: 0.0753, beta: 0.0753, \n",
      "NLE: 5787.2661\n",
      "\n",
      "gamma: 0.0753, sigma: 0.0753, beta: 0.0753, \n",
      "NLE: 5787.2661\n",
      "\n",
      "gamma: 0.0753, sigma: 0.0753, beta: 0.0753, \n",
      "NLE: 5787.2661\n",
      "\n",
      "gamma: 0.0753, sigma: 0.0753, beta: 0.0753, \n",
      "NLE: 5787.2661\n",
      "\n",
      "gamma: 0.0721, sigma: 0.0721, beta: 0.0721, \n",
      "NLE: 5787.2847\n",
      "\n",
      "gamma: 0.0721, sigma: 0.0721, beta: 0.0721, \n",
      "NLE: 5787.2847\n",
      "\n",
      "gamma: 0.0721, sigma: 0.0721, beta: 0.0721, \n",
      "NLE: 5787.2847\n",
      "\n",
      "gamma: 0.0721, sigma: 0.0721, beta: 0.0721, \n",
      "NLE: 5787.2847\n",
      "\n",
      "gamma: 0.0740, sigma: 0.0740, beta: 0.0740, \n",
      "NLE: 5787.2494\n",
      "\n",
      "gamma: 0.0740, sigma: 0.0740, beta: 0.0740, \n",
      "NLE: 5787.2494\n",
      "\n",
      "gamma: 0.0740, sigma: 0.0740, beta: 0.0740, \n",
      "NLE: 5787.2494\n",
      "\n",
      "gamma: 0.0740, sigma: 0.0740, beta: 0.0740, \n",
      "NLE: 5787.2494\n",
      "\n",
      "gamma: 0.0739, sigma: 0.0739, beta: 0.0739, \n",
      "NLE: 5787.2494\n",
      "\n",
      "gamma: 0.0739, sigma: 0.0739, beta: 0.0739, \n",
      "NLE: 5787.2494\n",
      "\n",
      "gamma: 0.0739, sigma: 0.0739, beta: 0.0739, \n",
      "NLE: 5787.2494\n",
      "\n",
      "gamma: 0.0739, sigma: 0.0739, beta: 0.0739, \n",
      "NLE: 5787.2494\n",
      "\n",
      "gamma: 0.0740, sigma: 0.0740, beta: 0.0740, \n",
      "NLE: 5787.2494\n",
      "\n",
      "gamma: 0.0740, sigma: 0.0740, beta: 0.0740, \n",
      "NLE: 5787.2494\n",
      "\n",
      "gamma: 0.0740, sigma: 0.0740, beta: 0.0740, \n",
      "NLE: 5787.2494\n",
      "\n",
      "gamma: 0.0740, sigma: 0.0740, beta: 0.0740, \n",
      "NLE: 5787.2494\n",
      "optimal gamma : 0.0740\n",
      "optimal sigma : 0.6008\n",
      "optimal beta : 0.2849\n"
     ]
    }
   ],
   "source": [
    "self.learn_optimal_parameters()"
   ]
  },
  {
   "cell_type": "code",
   "execution_count": 10,
   "id": "548b652b",
   "metadata": {},
   "outputs": [],
   "source": [
    "#NLE: 5787.2494\n",
    "optimal_gamma = 0.0740\n",
    "optimal_sigma = 0.6008\n",
    "optimal_beta = 0.2849"
   ]
  },
  {
   "cell_type": "code",
   "execution_count": 11,
   "id": "ec149c40",
   "metadata": {},
   "outputs": [],
   "source": [
    "self.set_optimal_parameters(gamma = optimal_gamma, sigma = optimal_sigma, beta = optimal_beta)"
   ]
  },
  {
   "cell_type": "code",
   "execution_count": 12,
   "id": "fe418389",
   "metadata": {},
   "outputs": [],
   "source": [
    "skill_curves = self.set_skill_curves()"
   ]
  },
  {
   "cell_type": "code",
   "execution_count": 13,
   "id": "c28f6ea2",
   "metadata": {},
   "outputs": [],
   "source": [
    "# https://sports.betmgm.com/en/blog/ranking-the-worlds-top-10-boxers/\n",
    "# supringly Mike Tyson is not on this list\n",
    "top_boxers_online = ['Muhammad Ali', 'Joe Louis', 'Sugar Ray Robinson', 'Rocky Marciano', 'Floyd Mayweather Jr', 'Manny Pacquiao', 'Jack Dempsey', 'Roberto Durán', 'Henry Armstrong', 'Willie Pep']"
   ]
  },
  {
   "cell_type": "code",
   "execution_count": 13,
   "id": "6435f38b",
   "metadata": {},
   "outputs": [
    {
     "name": "stderr",
     "output_type": "stream",
     "text": [
      "/Users/davidliu/Desktop/Python312/true_theta/posts/trueskill/true_skill_through_time.py:204: FutureWarning: The default of observed=False is deprecated and will be changed to True in a future version of pandas. Pass observed=False to retain current behavior or observed=True to adopt the future default and silence this warning.\n",
      "  bucket_means = df.groupby('win_prob_bucket').agg(\n"
     ]
    },
    {
     "data": {
      "text/html": [
       "\n",
       "<style>\n",
       "  #altair-viz-1978d8be2dbd420d8a8c125dda96a9e5.vega-embed {\n",
       "    width: 100%;\n",
       "    display: flex;\n",
       "  }\n",
       "\n",
       "  #altair-viz-1978d8be2dbd420d8a8c125dda96a9e5.vega-embed details,\n",
       "  #altair-viz-1978d8be2dbd420d8a8c125dda96a9e5.vega-embed details summary {\n",
       "    position: relative;\n",
       "  }\n",
       "</style>\n",
       "<div id=\"altair-viz-1978d8be2dbd420d8a8c125dda96a9e5\"></div>\n",
       "<script type=\"text/javascript\">\n",
       "  var VEGA_DEBUG = (typeof VEGA_DEBUG == \"undefined\") ? {} : VEGA_DEBUG;\n",
       "  (function(spec, embedOpt){\n",
       "    let outputDiv = document.currentScript.previousElementSibling;\n",
       "    if (outputDiv.id !== \"altair-viz-1978d8be2dbd420d8a8c125dda96a9e5\") {\n",
       "      outputDiv = document.getElementById(\"altair-viz-1978d8be2dbd420d8a8c125dda96a9e5\");\n",
       "    }\n",
       "    const paths = {\n",
       "      \"vega\": \"https://cdn.jsdelivr.net/npm/vega@5?noext\",\n",
       "      \"vega-lib\": \"https://cdn.jsdelivr.net/npm/vega-lib?noext\",\n",
       "      \"vega-lite\": \"https://cdn.jsdelivr.net/npm/vega-lite@5.20.1?noext\",\n",
       "      \"vega-embed\": \"https://cdn.jsdelivr.net/npm/vega-embed@6?noext\",\n",
       "    };\n",
       "\n",
       "    function maybeLoadScript(lib, version) {\n",
       "      var key = `${lib.replace(\"-\", \"\")}_version`;\n",
       "      return (VEGA_DEBUG[key] == version) ?\n",
       "        Promise.resolve(paths[lib]) :\n",
       "        new Promise(function(resolve, reject) {\n",
       "          var s = document.createElement('script');\n",
       "          document.getElementsByTagName(\"head\")[0].appendChild(s);\n",
       "          s.async = true;\n",
       "          s.onload = () => {\n",
       "            VEGA_DEBUG[key] = version;\n",
       "            return resolve(paths[lib]);\n",
       "          };\n",
       "          s.onerror = () => reject(`Error loading script: ${paths[lib]}`);\n",
       "          s.src = paths[lib];\n",
       "        });\n",
       "    }\n",
       "\n",
       "    function showError(err) {\n",
       "      outputDiv.innerHTML = `<div class=\"error\" style=\"color:red;\">${err}</div>`;\n",
       "      throw err;\n",
       "    }\n",
       "\n",
       "    function displayChart(vegaEmbed) {\n",
       "      vegaEmbed(outputDiv, spec, embedOpt)\n",
       "        .catch(err => showError(`Javascript Error: ${err.message}<br>This usually means there's a typo in your chart specification. See the javascript console for the full traceback.`));\n",
       "    }\n",
       "\n",
       "    if(typeof define === \"function\" && define.amd) {\n",
       "      requirejs.config({paths});\n",
       "      require([\"vega-embed\"], displayChart, err => showError(`Error loading script: ${err.message}`));\n",
       "    } else {\n",
       "      maybeLoadScript(\"vega\", \"5\")\n",
       "        .then(() => maybeLoadScript(\"vega-lite\", \"5.20.1\"))\n",
       "        .then(() => maybeLoadScript(\"vega-embed\", \"6\"))\n",
       "        .catch(showError)\n",
       "        .then(() => displayChart(vegaEmbed));\n",
       "    }\n",
       "  })({\"config\": {\"view\": {\"continuousWidth\": 300, \"continuousHeight\": 300}}, \"layer\": [{\"data\": {\"name\": \"data-42f50405073b2dbe8396db6b7dd2f6be\"}, \"mark\": {\"type\": \"line\", \"color\": \"black\", \"strokeDash\": [12, 12]}, \"encoding\": {\"x\": {\"field\": \"x\", \"type\": \"quantitative\"}, \"y\": {\"field\": \"y\", \"type\": \"quantitative\"}}}, {\"data\": {\"name\": \"data-b580547f83d5acb1d51e870025d1b4f7\"}, \"mark\": {\"type\": \"line\", \"strokeWidth\": 4}, \"encoding\": {\"x\": {\"field\": \"win_prob_midpoint\", \"title\": \"Predicted Win Probability\", \"type\": \"quantitative\"}, \"y\": {\"field\": \"avg_outcome\", \"title\": \"Average Outcome\", \"type\": \"quantitative\"}}}, {\"data\": {\"name\": \"data-b580547f83d5acb1d51e870025d1b4f7\"}, \"mark\": {\"type\": \"point\", \"fill\": \"white\", \"opacity\": 1, \"size\": 200, \"strokeWidth\": 4}, \"encoding\": {\"x\": {\"field\": \"win_prob_midpoint\", \"type\": \"quantitative\"}, \"y\": {\"field\": \"avg_outcome\", \"type\": \"quantitative\"}}}], \"height\": 400, \"title\": \"Calibration Plot In-Sample\", \"width\": 400, \"$schema\": \"https://vega.github.io/schema/vega-lite/v5.20.1.json\", \"datasets\": {\"data-42f50405073b2dbe8396db6b7dd2f6be\": [{\"x\": 0, \"y\": 0}, {\"x\": 1, \"y\": 1}], \"data-b580547f83d5acb1d51e870025d1b4f7\": [{\"avg_outcome\": 0.0, \"win_prob_midpoint\": 0.026578368125029707}, {\"avg_outcome\": 0.0, \"win_prob_midpoint\": 0.05176337239225152}, {\"avg_outcome\": 0.0, \"win_prob_midpoint\": 0.07887036639776011}, {\"avg_outcome\": 0.0, \"win_prob_midpoint\": 0.12853266033330973}, {\"avg_outcome\": 0.16706021251475797, \"win_prob_midpoint\": 0.33249952162288177}, {\"avg_outcome\": 0.8896755162241888, \"win_prob_midpoint\": 0.7044586819406679}, {\"avg_outcome\": 1.0, \"win_prob_midpoint\": 0.8802148534743961}, {\"avg_outcome\": 1.0, \"win_prob_midpoint\": 0.9251093943153371}, {\"avg_outcome\": 1.0, \"win_prob_midpoint\": 0.9503485098645845}, {\"avg_outcome\": 1.0, \"win_prob_midpoint\": 0.9744485369725501}]}}, {\"mode\": \"vega-lite\"});\n",
       "</script>"
      ],
      "text/plain": [
       "alt.LayerChart(...)"
      ]
     },
     "execution_count": 13,
     "metadata": {},
     "output_type": "execute_result"
    }
   ],
   "source": [
    "self.plot_calibration()"
   ]
  },
  {
   "cell_type": "markdown",
   "id": "756a280f",
   "metadata": {},
   "source": [
    "### remove games that appear in both train and test set(to avoid data leak)"
   ]
  },
  {
   "cell_type": "code",
   "execution_count": 14,
   "id": "06d4170d",
   "metadata": {},
   "outputs": [],
   "source": [
    "games_ge_40_test_unique_df = games_ge_40_test_df[~games_ge_40_test_df.game_index.isin(games_ge_40_train_df.game_index.tolist())] "
   ]
  },
  {
   "cell_type": "markdown",
   "id": "c9303680",
   "metadata": {},
   "source": [
    "### for those not on the skill_curve(because they are not in the training set, drop them)"
   ]
  },
  {
   "cell_type": "code",
   "execution_count": 15,
   "id": "8b74b64a",
   "metadata": {},
   "outputs": [
    {
     "data": {
      "text/plain": [
       "(4129, 4387)"
      ]
     },
     "execution_count": 15,
     "metadata": {},
     "output_type": "execute_result"
    }
   ],
   "source": [
    "len(games_ge_40_test_unique_df), len(games_ge_40_test_df)"
   ]
  },
  {
   "cell_type": "code",
   "execution_count": 17,
   "id": "2db3a984",
   "metadata": {},
   "outputs": [
    {
     "name": "stderr",
     "output_type": "stream",
     "text": [
      "/Users/davidliu/Desktop/Python312/true_theta/posts/trueskill/true_skill_through_time.py:265: FutureWarning: The default of observed=False is deprecated and will be changed to True in a future version of pandas. Pass observed=False to retain current behavior or observed=True to adopt the future default and silence this warning.\n",
      "  bucket_means = df.groupby('win_prob_bucket').agg(\n"
     ]
    },
    {
     "data": {
      "text/html": [
       "\n",
       "<style>\n",
       "  #altair-viz-d831b1e51f554d318f7884a5700c99dc.vega-embed {\n",
       "    width: 100%;\n",
       "    display: flex;\n",
       "  }\n",
       "\n",
       "  #altair-viz-d831b1e51f554d318f7884a5700c99dc.vega-embed details,\n",
       "  #altair-viz-d831b1e51f554d318f7884a5700c99dc.vega-embed details summary {\n",
       "    position: relative;\n",
       "  }\n",
       "</style>\n",
       "<div id=\"altair-viz-d831b1e51f554d318f7884a5700c99dc\"></div>\n",
       "<script type=\"text/javascript\">\n",
       "  var VEGA_DEBUG = (typeof VEGA_DEBUG == \"undefined\") ? {} : VEGA_DEBUG;\n",
       "  (function(spec, embedOpt){\n",
       "    let outputDiv = document.currentScript.previousElementSibling;\n",
       "    if (outputDiv.id !== \"altair-viz-d831b1e51f554d318f7884a5700c99dc\") {\n",
       "      outputDiv = document.getElementById(\"altair-viz-d831b1e51f554d318f7884a5700c99dc\");\n",
       "    }\n",
       "    const paths = {\n",
       "      \"vega\": \"https://cdn.jsdelivr.net/npm/vega@5?noext\",\n",
       "      \"vega-lib\": \"https://cdn.jsdelivr.net/npm/vega-lib?noext\",\n",
       "      \"vega-lite\": \"https://cdn.jsdelivr.net/npm/vega-lite@5.20.1?noext\",\n",
       "      \"vega-embed\": \"https://cdn.jsdelivr.net/npm/vega-embed@6?noext\",\n",
       "    };\n",
       "\n",
       "    function maybeLoadScript(lib, version) {\n",
       "      var key = `${lib.replace(\"-\", \"\")}_version`;\n",
       "      return (VEGA_DEBUG[key] == version) ?\n",
       "        Promise.resolve(paths[lib]) :\n",
       "        new Promise(function(resolve, reject) {\n",
       "          var s = document.createElement('script');\n",
       "          document.getElementsByTagName(\"head\")[0].appendChild(s);\n",
       "          s.async = true;\n",
       "          s.onload = () => {\n",
       "            VEGA_DEBUG[key] = version;\n",
       "            return resolve(paths[lib]);\n",
       "          };\n",
       "          s.onerror = () => reject(`Error loading script: ${paths[lib]}`);\n",
       "          s.src = paths[lib];\n",
       "        });\n",
       "    }\n",
       "\n",
       "    function showError(err) {\n",
       "      outputDiv.innerHTML = `<div class=\"error\" style=\"color:red;\">${err}</div>`;\n",
       "      throw err;\n",
       "    }\n",
       "\n",
       "    function displayChart(vegaEmbed) {\n",
       "      vegaEmbed(outputDiv, spec, embedOpt)\n",
       "        .catch(err => showError(`Javascript Error: ${err.message}<br>This usually means there's a typo in your chart specification. See the javascript console for the full traceback.`));\n",
       "    }\n",
       "\n",
       "    if(typeof define === \"function\" && define.amd) {\n",
       "      requirejs.config({paths});\n",
       "      require([\"vega-embed\"], displayChart, err => showError(`Error loading script: ${err.message}`));\n",
       "    } else {\n",
       "      maybeLoadScript(\"vega\", \"5\")\n",
       "        .then(() => maybeLoadScript(\"vega-lite\", \"5.20.1\"))\n",
       "        .then(() => maybeLoadScript(\"vega-embed\", \"6\"))\n",
       "        .catch(showError)\n",
       "        .then(() => displayChart(vegaEmbed));\n",
       "    }\n",
       "  })({\"config\": {\"view\": {\"continuousWidth\": 300, \"continuousHeight\": 300}}, \"layer\": [{\"data\": {\"name\": \"data-42f50405073b2dbe8396db6b7dd2f6be\"}, \"mark\": {\"type\": \"line\", \"color\": \"black\", \"strokeDash\": [12, 12]}, \"encoding\": {\"x\": {\"field\": \"x\", \"type\": \"quantitative\"}, \"y\": {\"field\": \"y\", \"type\": \"quantitative\"}}}, {\"data\": {\"name\": \"data-893eea52a1bd0ae02ad2dff40d1872be\"}, \"mark\": {\"type\": \"line\", \"strokeWidth\": 4}, \"encoding\": {\"x\": {\"field\": \"win_prob_midpoint\", \"title\": \"Predicted Win Probability\", \"type\": \"quantitative\"}, \"y\": {\"field\": \"avg_outcome\", \"title\": \"Average Outcome\", \"type\": \"quantitative\"}}}, {\"data\": {\"name\": \"data-893eea52a1bd0ae02ad2dff40d1872be\"}, \"mark\": {\"type\": \"point\", \"fill\": \"white\", \"opacity\": 1, \"size\": 200, \"strokeWidth\": 4}, \"encoding\": {\"x\": {\"field\": \"win_prob_midpoint\", \"type\": \"quantitative\"}, \"y\": {\"field\": \"avg_outcome\", \"type\": \"quantitative\"}}}], \"height\": 400, \"title\": \"Calibration Plot Out-Of-Sample\", \"width\": 400, \"$schema\": \"https://vega.github.io/schema/vega-lite/v5.20.1.json\", \"datasets\": {\"data-42f50405073b2dbe8396db6b7dd2f6be\": [{\"x\": 0, \"y\": 0}, {\"x\": 1, \"y\": 1}], \"data-893eea52a1bd0ae02ad2dff40d1872be\": [{\"avg_outcome\": 0.20270270270270271, \"win_prob_midpoint\": 0.020949259983129347}, {\"avg_outcome\": 0.22727272727272727, \"win_prob_midpoint\": 0.0664851264055631}, {\"avg_outcome\": 0.22272727272727272, \"win_prob_midpoint\": 0.1340926920616427}, {\"avg_outcome\": 0.4298642533936652, \"win_prob_midpoint\": 0.2365591443776926}, {\"avg_outcome\": 0.4090909090909091, \"win_prob_midpoint\": 0.4148051705015829}, {\"avg_outcome\": 0.5429864253393665, \"win_prob_midpoint\": 0.6193347006357739}, {\"avg_outcome\": 0.7090909090909091, \"win_prob_midpoint\": 0.793981638446871}, {\"avg_outcome\": 0.6515837104072398, \"win_prob_midpoint\": 0.8885449019665201}, {\"avg_outcome\": 0.759090909090909, \"win_prob_midpoint\": 0.9421461676436484}, {\"avg_outcome\": 0.8597285067873304, \"win_prob_midpoint\": 0.9793716328691915}]}}, {\"mode\": \"vega-lite\"});\n",
       "</script>"
      ],
      "text/plain": [
       "alt.LayerChart(...)"
      ]
     },
     "execution_count": 17,
     "metadata": {},
     "output_type": "execute_result"
    }
   ],
   "source": [
    "self.plot_calibration_oos(oos_data=games_ge_40_test_df)"
   ]
  },
  {
   "cell_type": "code",
   "execution_count": 16,
   "id": "412c30ce",
   "metadata": {},
   "outputs": [
    {
     "name": "stderr",
     "output_type": "stream",
     "text": [
      "/Users/davidliu/Desktop/Python312/true_theta/posts/trueskill/true_skill_through_time.py:265: FutureWarning: The default of observed=False is deprecated and will be changed to True in a future version of pandas. Pass observed=False to retain current behavior or observed=True to adopt the future default and silence this warning.\n",
      "  bucket_means = df.groupby('win_prob_bucket').agg(\n"
     ]
    },
    {
     "data": {
      "text/html": [
       "\n",
       "<style>\n",
       "  #altair-viz-4d08f31de0814e708c9ba12eec437981.vega-embed {\n",
       "    width: 100%;\n",
       "    display: flex;\n",
       "  }\n",
       "\n",
       "  #altair-viz-4d08f31de0814e708c9ba12eec437981.vega-embed details,\n",
       "  #altair-viz-4d08f31de0814e708c9ba12eec437981.vega-embed details summary {\n",
       "    position: relative;\n",
       "  }\n",
       "</style>\n",
       "<div id=\"altair-viz-4d08f31de0814e708c9ba12eec437981\"></div>\n",
       "<script type=\"text/javascript\">\n",
       "  var VEGA_DEBUG = (typeof VEGA_DEBUG == \"undefined\") ? {} : VEGA_DEBUG;\n",
       "  (function(spec, embedOpt){\n",
       "    let outputDiv = document.currentScript.previousElementSibling;\n",
       "    if (outputDiv.id !== \"altair-viz-4d08f31de0814e708c9ba12eec437981\") {\n",
       "      outputDiv = document.getElementById(\"altair-viz-4d08f31de0814e708c9ba12eec437981\");\n",
       "    }\n",
       "    const paths = {\n",
       "      \"vega\": \"https://cdn.jsdelivr.net/npm/vega@5?noext\",\n",
       "      \"vega-lib\": \"https://cdn.jsdelivr.net/npm/vega-lib?noext\",\n",
       "      \"vega-lite\": \"https://cdn.jsdelivr.net/npm/vega-lite@5.20.1?noext\",\n",
       "      \"vega-embed\": \"https://cdn.jsdelivr.net/npm/vega-embed@6?noext\",\n",
       "    };\n",
       "\n",
       "    function maybeLoadScript(lib, version) {\n",
       "      var key = `${lib.replace(\"-\", \"\")}_version`;\n",
       "      return (VEGA_DEBUG[key] == version) ?\n",
       "        Promise.resolve(paths[lib]) :\n",
       "        new Promise(function(resolve, reject) {\n",
       "          var s = document.createElement('script');\n",
       "          document.getElementsByTagName(\"head\")[0].appendChild(s);\n",
       "          s.async = true;\n",
       "          s.onload = () => {\n",
       "            VEGA_DEBUG[key] = version;\n",
       "            return resolve(paths[lib]);\n",
       "          };\n",
       "          s.onerror = () => reject(`Error loading script: ${paths[lib]}`);\n",
       "          s.src = paths[lib];\n",
       "        });\n",
       "    }\n",
       "\n",
       "    function showError(err) {\n",
       "      outputDiv.innerHTML = `<div class=\"error\" style=\"color:red;\">${err}</div>`;\n",
       "      throw err;\n",
       "    }\n",
       "\n",
       "    function displayChart(vegaEmbed) {\n",
       "      vegaEmbed(outputDiv, spec, embedOpt)\n",
       "        .catch(err => showError(`Javascript Error: ${err.message}<br>This usually means there's a typo in your chart specification. See the javascript console for the full traceback.`));\n",
       "    }\n",
       "\n",
       "    if(typeof define === \"function\" && define.amd) {\n",
       "      requirejs.config({paths});\n",
       "      require([\"vega-embed\"], displayChart, err => showError(`Error loading script: ${err.message}`));\n",
       "    } else {\n",
       "      maybeLoadScript(\"vega\", \"5\")\n",
       "        .then(() => maybeLoadScript(\"vega-lite\", \"5.20.1\"))\n",
       "        .then(() => maybeLoadScript(\"vega-embed\", \"6\"))\n",
       "        .catch(showError)\n",
       "        .then(() => displayChart(vegaEmbed));\n",
       "    }\n",
       "  })({\"config\": {\"view\": {\"continuousWidth\": 300, \"continuousHeight\": 300}}, \"layer\": [{\"data\": {\"name\": \"data-42f50405073b2dbe8396db6b7dd2f6be\"}, \"mark\": {\"type\": \"line\", \"color\": \"black\", \"strokeDash\": [12, 12]}, \"encoding\": {\"x\": {\"field\": \"x\", \"type\": \"quantitative\"}, \"y\": {\"field\": \"y\", \"type\": \"quantitative\"}}}, {\"data\": {\"name\": \"data-074e049157c80336780663915b537e9d\"}, \"mark\": {\"type\": \"line\", \"strokeWidth\": 4}, \"encoding\": {\"x\": {\"field\": \"win_prob_midpoint\", \"title\": \"Predicted Win Probability\", \"type\": \"quantitative\"}, \"y\": {\"field\": \"avg_outcome\", \"title\": \"Average Outcome\", \"type\": \"quantitative\"}}}, {\"data\": {\"name\": \"data-074e049157c80336780663915b537e9d\"}, \"mark\": {\"type\": \"point\", \"fill\": \"white\", \"opacity\": 1, \"size\": 200, \"strokeWidth\": 4}, \"encoding\": {\"x\": {\"field\": \"win_prob_midpoint\", \"type\": \"quantitative\"}, \"y\": {\"field\": \"avg_outcome\", \"type\": \"quantitative\"}}}], \"height\": 400, \"title\": \"Calibration Plot Out-Of-Sample\", \"width\": 400, \"$schema\": \"https://vega.github.io/schema/vega-lite/v5.20.1.json\", \"datasets\": {\"data-42f50405073b2dbe8396db6b7dd2f6be\": [{\"x\": 0, \"y\": 0}, {\"x\": 1, \"y\": 1}], \"data-074e049157c80336780663915b537e9d\": [{\"avg_outcome\": 0.17435897435897435, \"win_prob_midpoint\": 0.019126595561481285}, {\"avg_outcome\": 0.24102564102564103, \"win_prob_midpoint\": 0.05709884185879075}, {\"avg_outcome\": 0.31794871794871793, \"win_prob_midpoint\": 0.11414237747958385}, {\"avg_outcome\": 0.37628865979381443, \"win_prob_midpoint\": 0.2089111747689551}, {\"avg_outcome\": 0.4358974358974359, \"win_prob_midpoint\": 0.3890217234941503}, {\"avg_outcome\": 0.5714285714285714, \"win_prob_midpoint\": 0.6197538805052487}, {\"avg_outcome\": 0.6683937823834197, \"win_prob_midpoint\": 0.803024067010612}, {\"avg_outcome\": 0.676923076923077, \"win_prob_midpoint\": 0.8918301727945593}, {\"avg_outcome\": 0.7846153846153846, \"win_prob_midpoint\": 0.9439313858518912}, {\"avg_outcome\": 0.8256410256410256, \"win_prob_midpoint\": 0.9802708004718809}]}}, {\"mode\": \"vega-lite\"});\n",
       "</script>"
      ],
      "text/plain": [
       "alt.LayerChart(...)"
      ]
     },
     "execution_count": 16,
     "metadata": {},
     "output_type": "execute_result"
    }
   ],
   "source": [
    "self.plot_calibration_oos(oos_data=games_ge_40_test_unique_df)"
   ]
  },
  {
   "cell_type": "code",
   "execution_count": null,
   "id": "b7e5c4be",
   "metadata": {},
   "outputs": [],
   "source": []
  },
  {
   "cell_type": "code",
   "execution_count": null,
   "id": "0de6fd84",
   "metadata": {},
   "outputs": [],
   "source": []
  },
  {
   "cell_type": "markdown",
   "id": "a8cb2781",
   "metadata": {},
   "source": [
    "### roc_auc_score on the unique test set, use the last available mu and sigma to compute win_prob"
   ]
  },
  {
   "cell_type": "code",
   "execution_count": 17,
   "id": "858f7bd4",
   "metadata": {},
   "outputs": [
    {
     "data": {
      "text/html": [
       "<div>\n",
       "<style scoped>\n",
       "    .dataframe tbody tr th:only-of-type {\n",
       "        vertical-align: middle;\n",
       "    }\n",
       "\n",
       "    .dataframe tbody tr th {\n",
       "        vertical-align: top;\n",
       "    }\n",
       "\n",
       "    .dataframe thead th {\n",
       "        text-align: right;\n",
       "    }\n",
       "</style>\n",
       "<table border=\"1\" class=\"dataframe\">\n",
       "  <thead>\n",
       "    <tr style=\"text-align: right;\">\n",
       "      <th></th>\n",
       "      <th>game_index</th>\n",
       "      <th>winner</th>\n",
       "      <th>loser</th>\n",
       "      <th>timestamp</th>\n",
       "    </tr>\n",
       "  </thead>\n",
       "  <tbody>\n",
       "    <tr>\n",
       "      <th>0</th>\n",
       "      <td>67</td>\n",
       "      <td>John L. Sullivan</td>\n",
       "      <td>Alf Greenfield</td>\n",
       "      <td>1885-01-12</td>\n",
       "    </tr>\n",
       "    <tr>\n",
       "      <th>1</th>\n",
       "      <td>74</td>\n",
       "      <td>John L. Sullivan</td>\n",
       "      <td>Jack Burke</td>\n",
       "      <td>1885-06-13</td>\n",
       "    </tr>\n",
       "    <tr>\n",
       "      <th>2</th>\n",
       "      <td>77</td>\n",
       "      <td>John L. Sullivan</td>\n",
       "      <td>Dominick McCaffrey</td>\n",
       "      <td>1885-08-29</td>\n",
       "    </tr>\n",
       "    <tr>\n",
       "      <th>3</th>\n",
       "      <td>104</td>\n",
       "      <td>John L. Sullivan</td>\n",
       "      <td>Frank Herald</td>\n",
       "      <td>1886-09-18</td>\n",
       "    </tr>\n",
       "    <tr>\n",
       "      <th>4</th>\n",
       "      <td>108</td>\n",
       "      <td>John L. Sullivan</td>\n",
       "      <td>Paddy Ryan</td>\n",
       "      <td>1886-11-13</td>\n",
       "    </tr>\n",
       "  </tbody>\n",
       "</table>\n",
       "</div>"
      ],
      "text/plain": [
       "   game_index            winner               loser  timestamp\n",
       "0          67  John L. Sullivan      Alf Greenfield 1885-01-12\n",
       "1          74  John L. Sullivan          Jack Burke 1885-06-13\n",
       "2          77  John L. Sullivan  Dominick McCaffrey 1885-08-29\n",
       "3         104  John L. Sullivan        Frank Herald 1886-09-18\n",
       "4         108  John L. Sullivan          Paddy Ryan 1886-11-13"
      ]
     },
     "execution_count": 17,
     "metadata": {},
     "output_type": "execute_result"
    }
   ],
   "source": [
    "games_ge_40_test_unique_df.head()"
   ]
  },
  {
   "cell_type": "code",
   "execution_count": 26,
   "id": "ebb28406",
   "metadata": {},
   "outputs": [
    {
     "name": "stderr",
     "output_type": "stream",
     "text": [
      "/var/folders/sg/52_wwpld14z_lvc4rf4zy9x00000gn/T/ipykernel_68238/3712090721.py:1: SettingWithCopyWarning: \n",
      "A value is trying to be set on a copy of a slice from a DataFrame.\n",
      "Try using .loc[row_indexer,col_indexer] = value instead\n",
      "\n",
      "See the caveats in the documentation: https://pandas.pydata.org/pandas-docs/stable/user_guide/indexing.html#returning-a-view-versus-a-copy\n",
      "  games_ge_40_test_unique_df['roc_label'] = games_ge_40_test_unique_df.apply(lambda row: row.winner < row.loser, axis=1).astype(int)\n"
     ]
    }
   ],
   "source": [
    "games_ge_40_test_unique_df['roc_label'] = games_ge_40_test_unique_df.apply(lambda row: row.winner < row.loser, axis=1).astype(int)"
   ]
  },
  {
   "cell_type": "code",
   "execution_count": 36,
   "id": "406b0b55",
   "metadata": {},
   "outputs": [],
   "source": [
    "def assign_players(row):\n",
    "    p1, p2 = sorted([row['winner'], row['loser']])\n",
    "    return pd.Series([p1, p2], index=['player1', 'player2'])"
   ]
  },
  {
   "cell_type": "code",
   "execution_count": 37,
   "id": "1a11adf8",
   "metadata": {},
   "outputs": [
    {
     "name": "stderr",
     "output_type": "stream",
     "text": [
      "/var/folders/sg/52_wwpld14z_lvc4rf4zy9x00000gn/T/ipykernel_68238/3356886536.py:1: SettingWithCopyWarning: \n",
      "A value is trying to be set on a copy of a slice from a DataFrame.\n",
      "Try using .loc[row_indexer,col_indexer] = value instead\n",
      "\n",
      "See the caveats in the documentation: https://pandas.pydata.org/pandas-docs/stable/user_guide/indexing.html#returning-a-view-versus-a-copy\n",
      "  games_ge_40_test_unique_df[['player1', 'player2']] = games_ge_40_test_unique_df.apply(assign_players, axis=1)\n",
      "/var/folders/sg/52_wwpld14z_lvc4rf4zy9x00000gn/T/ipykernel_68238/3356886536.py:1: SettingWithCopyWarning: \n",
      "A value is trying to be set on a copy of a slice from a DataFrame.\n",
      "Try using .loc[row_indexer,col_indexer] = value instead\n",
      "\n",
      "See the caveats in the documentation: https://pandas.pydata.org/pandas-docs/stable/user_guide/indexing.html#returning-a-view-versus-a-copy\n",
      "  games_ge_40_test_unique_df[['player1', 'player2']] = games_ge_40_test_unique_df.apply(assign_players, axis=1)\n"
     ]
    }
   ],
   "source": [
    "games_ge_40_test_unique_df[['player1', 'player2']] = games_ge_40_test_unique_df.apply(assign_players, axis=1)"
   ]
  },
  {
   "cell_type": "code",
   "execution_count": null,
   "id": "21cb30af",
   "metadata": {},
   "outputs": [],
   "source": []
  },
  {
   "cell_type": "code",
   "execution_count": 22,
   "id": "de0c4e38",
   "metadata": {},
   "outputs": [],
   "source": [
    "curves_map = {k: {t: n for t, n in v} for k, v in skill_curves.items()}\n",
    "last_curves_map = {k: v[-1][1] for k, v in self.skill_curves.items()}"
   ]
  },
  {
   "cell_type": "code",
   "execution_count": 42,
   "id": "f50c2034",
   "metadata": {},
   "outputs": [],
   "source": [
    "df = []\n",
    "for _, row in games_ge_40_test_unique_df.iterrows():\n",
    "    c1, c2 = row['player1'], row['player2']\n",
    "    if c1 in last_curves_map and c2 in last_curves_map:\n",
    "        normal_1, normal_2 = last_curves_map[c1], last_curves_map[c2]\n",
    "        mu_diff = normal_1.mu - normal_2.mu\n",
    "        sigma2_diff = normal_1.sigma ** 2 + normal_2.sigma ** 2 + 2 * (self.beta_optimal ** 2)\n",
    "        #use norm.cdf to speed up the prob calculation, P(X > 0) = 1 - P(X ≤ 0)\n",
    "        c1_win_prob = 1 - norm.cdf(0, mu_diff, sigma2_diff ** .5)\n",
    "        df.append([c1, c2, c1_win_prob])\n",
    "df = pd.DataFrame(df, columns=['player1', 'player2', 'player1_win_prob']).dropna()"
   ]
  },
  {
   "cell_type": "code",
   "execution_count": 43,
   "id": "f11f7763",
   "metadata": {},
   "outputs": [],
   "source": [
    "merged_df = pd.merge(games_ge_40_test_unique_df, df, on=['player1', 'player2'])"
   ]
  },
  {
   "cell_type": "code",
   "execution_count": 47,
   "id": "d2474bee",
   "metadata": {},
   "outputs": [],
   "source": [
    "merged_df['player1_mu'] = merged_df.apply(lambda row: last_curves_map[row.player1].mu, axis=1)\n",
    "merged_df['player2_mu'] = merged_df.apply(lambda row: last_curves_map[row.player2].mu, axis=1)\n",
    "merged_df['player1_mu_greater'] = merged_df.apply(lambda row: row.player1_mu > row.player2_mu, axis=1).astype(int)"
   ]
  },
  {
   "cell_type": "code",
   "execution_count": 48,
   "id": "27159e99",
   "metadata": {},
   "outputs": [
    {
     "data": {
      "text/html": [
       "<div>\n",
       "<style scoped>\n",
       "    .dataframe tbody tr th:only-of-type {\n",
       "        vertical-align: middle;\n",
       "    }\n",
       "\n",
       "    .dataframe tbody tr th {\n",
       "        vertical-align: top;\n",
       "    }\n",
       "\n",
       "    .dataframe thead th {\n",
       "        text-align: right;\n",
       "    }\n",
       "</style>\n",
       "<table border=\"1\" class=\"dataframe\">\n",
       "  <thead>\n",
       "    <tr style=\"text-align: right;\">\n",
       "      <th></th>\n",
       "      <th>game_index</th>\n",
       "      <th>winner</th>\n",
       "      <th>loser</th>\n",
       "      <th>timestamp</th>\n",
       "      <th>roc_label</th>\n",
       "      <th>player1</th>\n",
       "      <th>player2</th>\n",
       "      <th>player1_win_prob</th>\n",
       "      <th>player1_mu</th>\n",
       "      <th>player2_mu</th>\n",
       "      <th>player1_mu_greater</th>\n",
       "    </tr>\n",
       "  </thead>\n",
       "  <tbody>\n",
       "    <tr>\n",
       "      <th>0</th>\n",
       "      <td>67</td>\n",
       "      <td>John L. Sullivan</td>\n",
       "      <td>Alf Greenfield</td>\n",
       "      <td>1885-01-12</td>\n",
       "      <td>0</td>\n",
       "      <td>Alf Greenfield</td>\n",
       "      <td>John L. Sullivan</td>\n",
       "      <td>0.568026</td>\n",
       "      <td>-0.030131</td>\n",
       "      <td>-0.258278</td>\n",
       "      <td>1</td>\n",
       "    </tr>\n",
       "    <tr>\n",
       "      <th>1</th>\n",
       "      <td>74</td>\n",
       "      <td>John L. Sullivan</td>\n",
       "      <td>Jack Burke</td>\n",
       "      <td>1885-06-13</td>\n",
       "      <td>0</td>\n",
       "      <td>Jack Burke</td>\n",
       "      <td>John L. Sullivan</td>\n",
       "      <td>0.563801</td>\n",
       "      <td>-0.044322</td>\n",
       "      <td>-0.258278</td>\n",
       "      <td>1</td>\n",
       "    </tr>\n",
       "    <tr>\n",
       "      <th>2</th>\n",
       "      <td>108</td>\n",
       "      <td>John L. Sullivan</td>\n",
       "      <td>Paddy Ryan</td>\n",
       "      <td>1886-11-13</td>\n",
       "      <td>1</td>\n",
       "      <td>John L. Sullivan</td>\n",
       "      <td>Paddy Ryan</td>\n",
       "      <td>0.445887</td>\n",
       "      <td>-0.258278</td>\n",
       "      <td>-0.078450</td>\n",
       "      <td>0</td>\n",
       "    </tr>\n",
       "    <tr>\n",
       "      <th>3</th>\n",
       "      <td>147</td>\n",
       "      <td>Jack \"Nonpareil\" Dempsey</td>\n",
       "      <td>Billy Baker</td>\n",
       "      <td>1888-02-18</td>\n",
       "      <td>0</td>\n",
       "      <td>Billy Baker</td>\n",
       "      <td>Jack \"Nonpareil\" Dempsey</td>\n",
       "      <td>0.077330</td>\n",
       "      <td>-0.142781</td>\n",
       "      <td>0.937540</td>\n",
       "      <td>0</td>\n",
       "    </tr>\n",
       "    <tr>\n",
       "      <th>4</th>\n",
       "      <td>163</td>\n",
       "      <td>John L. Sullivan</td>\n",
       "      <td>Jake Kilrain</td>\n",
       "      <td>1889-07-08</td>\n",
       "      <td>0</td>\n",
       "      <td>Jake Kilrain</td>\n",
       "      <td>John L. Sullivan</td>\n",
       "      <td>0.547510</td>\n",
       "      <td>-0.101239</td>\n",
       "      <td>-0.258278</td>\n",
       "      <td>1</td>\n",
       "    </tr>\n",
       "  </tbody>\n",
       "</table>\n",
       "</div>"
      ],
      "text/plain": [
       "   game_index                    winner           loser  timestamp  roc_label  \\\n",
       "0          67          John L. Sullivan  Alf Greenfield 1885-01-12          0   \n",
       "1          74          John L. Sullivan      Jack Burke 1885-06-13          0   \n",
       "2         108          John L. Sullivan      Paddy Ryan 1886-11-13          1   \n",
       "3         147  Jack \"Nonpareil\" Dempsey     Billy Baker 1888-02-18          0   \n",
       "4         163          John L. Sullivan    Jake Kilrain 1889-07-08          0   \n",
       "\n",
       "            player1                   player2  player1_win_prob  player1_mu  \\\n",
       "0    Alf Greenfield          John L. Sullivan          0.568026   -0.030131   \n",
       "1        Jack Burke          John L. Sullivan          0.563801   -0.044322   \n",
       "2  John L. Sullivan                Paddy Ryan          0.445887   -0.258278   \n",
       "3       Billy Baker  Jack \"Nonpareil\" Dempsey          0.077330   -0.142781   \n",
       "4      Jake Kilrain          John L. Sullivan          0.547510   -0.101239   \n",
       "\n",
       "   player2_mu  player1_mu_greater  \n",
       "0   -0.258278                   1  \n",
       "1   -0.258278                   1  \n",
       "2   -0.078450                   0  \n",
       "3    0.937540                   0  \n",
       "4   -0.258278                   1  "
      ]
     },
     "execution_count": 48,
     "metadata": {},
     "output_type": "execute_result"
    }
   ],
   "source": [
    "merged_df.head()"
   ]
  },
  {
   "cell_type": "code",
   "execution_count": 46,
   "id": "a9ee22b9",
   "metadata": {},
   "outputs": [
    {
     "data": {
      "text/plain": [
       "roc_label\n",
       "1    1449\n",
       "0    1249\n",
       "Name: count, dtype: int64"
      ]
     },
     "execution_count": 46,
     "metadata": {},
     "output_type": "execute_result"
    }
   ],
   "source": [
    "merged_df.roc_label.value_counts()"
   ]
  },
  {
   "cell_type": "code",
   "execution_count": 45,
   "id": "3bdb649a",
   "metadata": {},
   "outputs": [
    {
     "data": {
      "text/plain": [
       "np.float64(0.7421368426694428)"
      ]
     },
     "execution_count": 45,
     "metadata": {},
     "output_type": "execute_result"
    }
   ],
   "source": [
    "roc_auc_score(merged_df.roc_label, merged_df.player1_win_prob)"
   ]
  },
  {
   "cell_type": "code",
   "execution_count": 49,
   "id": "47c5aa7a",
   "metadata": {},
   "outputs": [
    {
     "data": {
      "text/plain": [
       "np.float64(0.6872559469245513)"
      ]
     },
     "execution_count": 49,
     "metadata": {},
     "output_type": "execute_result"
    }
   ],
   "source": [
    "roc_auc_score(merged_df.roc_label, merged_df.player1_mu_greater)"
   ]
  },
  {
   "cell_type": "code",
   "execution_count": 50,
   "id": "ee495421",
   "metadata": {},
   "outputs": [],
   "source": [
    "#merged_df.to_csv('data/boxing_oos_analysis.csv', index=False)"
   ]
  },
  {
   "cell_type": "code",
   "execution_count": null,
   "id": "3a3667e4",
   "metadata": {},
   "outputs": [],
   "source": []
  }
 ],
 "metadata": {
  "kernelspec": {
   "display_name": "Python 3 (ipykernel)",
   "language": "python",
   "name": "python3"
  },
  "language_info": {
   "codemirror_mode": {
    "name": "ipython",
    "version": 3
   },
   "file_extension": ".py",
   "mimetype": "text/x-python",
   "name": "python",
   "nbconvert_exporter": "python",
   "pygments_lexer": "ipython3",
   "version": "3.12.0"
  }
 },
 "nbformat": 4,
 "nbformat_minor": 5
}
