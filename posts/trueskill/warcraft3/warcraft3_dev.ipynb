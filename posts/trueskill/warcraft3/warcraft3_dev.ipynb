{
 "cells": [
  {
   "cell_type": "code",
   "execution_count": 10,
   "metadata": {},
   "outputs": [],
   "source": [
    "import sys\n",
    "sys.path.append('..')\n",
    "from data_processor import *\n",
    "from train_test_split_games import *\n",
    "from true_skill_through_time import *"
   ]
  },
  {
   "cell_type": "code",
   "execution_count": 5,
   "metadata": {},
   "outputs": [],
   "source": [
    "#wc3_instance = Warcraft3Processor(\"../data/warcraft3.csv\")"
   ]
  },
  {
   "cell_type": "code",
   "execution_count": 6,
   "metadata": {},
   "outputs": [],
   "source": [
    "wc3_splitter = Warcraft3Spliter(\"../data/warcraft3.csv\")"
   ]
  },
  {
   "cell_type": "code",
   "execution_count": 7,
   "metadata": {},
   "outputs": [],
   "source": [
    "wc3_games_train = wc3_splitter.prepare_train_set(-20000, -10000)"
   ]
  },
  {
   "cell_type": "code",
   "execution_count": 8,
   "metadata": {},
   "outputs": [],
   "source": [
    "wc3_games_test = wc3_splitter.prepare_test_set(start_idx=-10000)"
   ]
  },
  {
   "cell_type": "code",
   "execution_count": 9,
   "metadata": {},
   "outputs": [
    {
     "data": {
      "text/plain": [
       "((18130, 3), (18370, 3))"
      ]
     },
     "execution_count": 9,
     "metadata": {},
     "output_type": "execute_result"
    }
   ],
   "source": [
    "wc3_games_train.shape, wc3_games_test.shape"
   ]
  },
  {
   "cell_type": "code",
   "execution_count": 11,
   "metadata": {},
   "outputs": [],
   "source": [
    "self = TrueSkillThroughTimeApplied(wc3_games_train)"
   ]
  },
  {
   "cell_type": "code",
   "execution_count": 12,
   "metadata": {},
   "outputs": [],
   "source": [
    "#self.learn_optimal_parameters()"
   ]
  },
  {
   "cell_type": "code",
   "execution_count": 13,
   "metadata": {},
   "outputs": [],
   "source": [
    "optimal_gamma = 0.1000\n",
    "optimal_sigma = 2.5164\n",
    "optimal_beta = 1.7097\n",
    "\n",
    "self.set_optimal_parameters(gamma = optimal_gamma, sigma = optimal_sigma, beta = optimal_beta)"
   ]
  },
  {
   "cell_type": "code",
   "execution_count": 14,
   "metadata": {},
   "outputs": [],
   "source": [
    "skill_curves = self.set_skill_curves()"
   ]
  },
  {
   "cell_type": "code",
   "execution_count": 15,
   "metadata": {},
   "outputs": [
    {
     "name": "stderr",
     "output_type": "stream",
     "text": [
      "/Users/davidliu/Desktop/Python312/true_theta/posts/trueskill/warcraft3/../true_skill_through_time.py:216: FutureWarning: The default of observed=False is deprecated and will be changed to True in a future version of pandas. Pass observed=False to retain current behavior or observed=True to adopt the future default and silence this warning.\n",
      "  bucket_means = df.groupby('win_prob_bucket').agg(\n"
     ]
    },
    {
     "data": {
      "text/html": [
       "\n",
       "<style>\n",
       "  #altair-viz-35350eb07eaa4f59ac31949bf02d9c08.vega-embed {\n",
       "    width: 100%;\n",
       "    display: flex;\n",
       "  }\n",
       "\n",
       "  #altair-viz-35350eb07eaa4f59ac31949bf02d9c08.vega-embed details,\n",
       "  #altair-viz-35350eb07eaa4f59ac31949bf02d9c08.vega-embed details summary {\n",
       "    position: relative;\n",
       "  }\n",
       "</style>\n",
       "<div id=\"altair-viz-35350eb07eaa4f59ac31949bf02d9c08\"></div>\n",
       "<script type=\"text/javascript\">\n",
       "  var VEGA_DEBUG = (typeof VEGA_DEBUG == \"undefined\") ? {} : VEGA_DEBUG;\n",
       "  (function(spec, embedOpt){\n",
       "    let outputDiv = document.currentScript.previousElementSibling;\n",
       "    if (outputDiv.id !== \"altair-viz-35350eb07eaa4f59ac31949bf02d9c08\") {\n",
       "      outputDiv = document.getElementById(\"altair-viz-35350eb07eaa4f59ac31949bf02d9c08\");\n",
       "    }\n",
       "    const paths = {\n",
       "      \"vega\": \"https://cdn.jsdelivr.net/npm/vega@5?noext\",\n",
       "      \"vega-lib\": \"https://cdn.jsdelivr.net/npm/vega-lib?noext\",\n",
       "      \"vega-lite\": \"https://cdn.jsdelivr.net/npm/vega-lite@5.20.1?noext\",\n",
       "      \"vega-embed\": \"https://cdn.jsdelivr.net/npm/vega-embed@6?noext\",\n",
       "    };\n",
       "\n",
       "    function maybeLoadScript(lib, version) {\n",
       "      var key = `${lib.replace(\"-\", \"\")}_version`;\n",
       "      return (VEGA_DEBUG[key] == version) ?\n",
       "        Promise.resolve(paths[lib]) :\n",
       "        new Promise(function(resolve, reject) {\n",
       "          var s = document.createElement('script');\n",
       "          document.getElementsByTagName(\"head\")[0].appendChild(s);\n",
       "          s.async = true;\n",
       "          s.onload = () => {\n",
       "            VEGA_DEBUG[key] = version;\n",
       "            return resolve(paths[lib]);\n",
       "          };\n",
       "          s.onerror = () => reject(`Error loading script: ${paths[lib]}`);\n",
       "          s.src = paths[lib];\n",
       "        });\n",
       "    }\n",
       "\n",
       "    function showError(err) {\n",
       "      outputDiv.innerHTML = `<div class=\"error\" style=\"color:red;\">${err}</div>`;\n",
       "      throw err;\n",
       "    }\n",
       "\n",
       "    function displayChart(vegaEmbed) {\n",
       "      vegaEmbed(outputDiv, spec, embedOpt)\n",
       "        .catch(err => showError(`Javascript Error: ${err.message}<br>This usually means there's a typo in your chart specification. See the javascript console for the full traceback.`));\n",
       "    }\n",
       "\n",
       "    if(typeof define === \"function\" && define.amd) {\n",
       "      requirejs.config({paths});\n",
       "      require([\"vega-embed\"], displayChart, err => showError(`Error loading script: ${err.message}`));\n",
       "    } else {\n",
       "      maybeLoadScript(\"vega\", \"5\")\n",
       "        .then(() => maybeLoadScript(\"vega-lite\", \"5.20.1\"))\n",
       "        .then(() => maybeLoadScript(\"vega-embed\", \"6\"))\n",
       "        .catch(showError)\n",
       "        .then(() => displayChart(vegaEmbed));\n",
       "    }\n",
       "  })({\"config\": {\"view\": {\"continuousWidth\": 300, \"continuousHeight\": 300}}, \"layer\": [{\"data\": {\"name\": \"data-42f50405073b2dbe8396db6b7dd2f6be\"}, \"mark\": {\"type\": \"line\", \"color\": \"black\", \"strokeDash\": [12, 12]}, \"encoding\": {\"x\": {\"field\": \"x\", \"type\": \"quantitative\"}, \"y\": {\"field\": \"y\", \"type\": \"quantitative\"}}}, {\"data\": {\"name\": \"data-e61960f2f7188441c5354b04876cb808\"}, \"mark\": {\"type\": \"line\", \"strokeWidth\": 4}, \"encoding\": {\"x\": {\"field\": \"win_prob_midpoint\", \"title\": \"Predicted Win Probability\", \"type\": \"quantitative\"}, \"y\": {\"field\": \"avg_outcome\", \"title\": \"Average Outcome\", \"type\": \"quantitative\"}}}, {\"data\": {\"name\": \"data-e61960f2f7188441c5354b04876cb808\"}, \"mark\": {\"type\": \"point\", \"fill\": \"white\", \"opacity\": 1, \"size\": 200, \"strokeWidth\": 4}, \"encoding\": {\"x\": {\"field\": \"win_prob_midpoint\", \"type\": \"quantitative\"}, \"y\": {\"field\": \"avg_outcome\", \"type\": \"quantitative\"}}}], \"height\": 400, \"title\": \"Calibration Plot In-Sample\", \"width\": 400, \"$schema\": \"https://vega.github.io/schema/vega-lite/v5.20.1.json\", \"datasets\": {\"data-42f50405073b2dbe8396db6b7dd2f6be\": [{\"x\": 0, \"y\": 0}, {\"x\": 1, \"y\": 1}], \"data-e61960f2f7188441c5354b04876cb808\": [{\"avg_outcome\": 0.013237727523441808, \"win_prob_midpoint\": 0.07216447564035519}, {\"avg_outcome\": 0.07497243660418963, \"win_prob_midpoint\": 0.19478428430487182}, {\"avg_outcome\": 0.16556291390728478, \"win_prob_midpoint\": 0.29423694448319243}, {\"avg_outcome\": 0.26640926640926643, \"win_prob_midpoint\": 0.38099700533219655}, {\"avg_outcome\": 0.432194046306505, \"win_prob_midpoint\": 0.4620808721087233}, {\"avg_outcome\": 0.573634859349145, \"win_prob_midpoint\": 0.5443498452740638}, {\"avg_outcome\": 0.7417218543046358, \"win_prob_midpoint\": 0.6245537726108183}, {\"avg_outcome\": 0.839492553778268, \"win_prob_midpoint\": 0.712440285443133}, {\"avg_outcome\": 0.9172642029784887, \"win_prob_midpoint\": 0.8091475595539822}, {\"avg_outcome\": 0.9795918367346939, \"win_prob_midpoint\": 0.9272654081311252}]}}, {\"mode\": \"vega-lite\"});\n",
       "</script>"
      ],
      "text/plain": [
       "alt.LayerChart(...)"
      ]
     },
     "execution_count": 15,
     "metadata": {},
     "output_type": "execute_result"
    }
   ],
   "source": [
    "self.plot_calibration()"
   ]
  },
  {
   "cell_type": "code",
   "execution_count": 16,
   "metadata": {},
   "outputs": [
    {
     "name": "stderr",
     "output_type": "stream",
     "text": [
      "/Users/davidliu/Desktop/Python312/true_theta/posts/trueskill/warcraft3/../true_skill_through_time.py:277: FutureWarning: The default of observed=False is deprecated and will be changed to True in a future version of pandas. Pass observed=False to retain current behavior or observed=True to adopt the future default and silence this warning.\n",
      "  bucket_means = df.groupby('win_prob_bucket').agg(\n"
     ]
    },
    {
     "data": {
      "text/html": [
       "\n",
       "<style>\n",
       "  #altair-viz-7565553177af40dd8a87f3189b95fb4a.vega-embed {\n",
       "    width: 100%;\n",
       "    display: flex;\n",
       "  }\n",
       "\n",
       "  #altair-viz-7565553177af40dd8a87f3189b95fb4a.vega-embed details,\n",
       "  #altair-viz-7565553177af40dd8a87f3189b95fb4a.vega-embed details summary {\n",
       "    position: relative;\n",
       "  }\n",
       "</style>\n",
       "<div id=\"altair-viz-7565553177af40dd8a87f3189b95fb4a\"></div>\n",
       "<script type=\"text/javascript\">\n",
       "  var VEGA_DEBUG = (typeof VEGA_DEBUG == \"undefined\") ? {} : VEGA_DEBUG;\n",
       "  (function(spec, embedOpt){\n",
       "    let outputDiv = document.currentScript.previousElementSibling;\n",
       "    if (outputDiv.id !== \"altair-viz-7565553177af40dd8a87f3189b95fb4a\") {\n",
       "      outputDiv = document.getElementById(\"altair-viz-7565553177af40dd8a87f3189b95fb4a\");\n",
       "    }\n",
       "    const paths = {\n",
       "      \"vega\": \"https://cdn.jsdelivr.net/npm/vega@5?noext\",\n",
       "      \"vega-lib\": \"https://cdn.jsdelivr.net/npm/vega-lib?noext\",\n",
       "      \"vega-lite\": \"https://cdn.jsdelivr.net/npm/vega-lite@5.20.1?noext\",\n",
       "      \"vega-embed\": \"https://cdn.jsdelivr.net/npm/vega-embed@6?noext\",\n",
       "    };\n",
       "\n",
       "    function maybeLoadScript(lib, version) {\n",
       "      var key = `${lib.replace(\"-\", \"\")}_version`;\n",
       "      return (VEGA_DEBUG[key] == version) ?\n",
       "        Promise.resolve(paths[lib]) :\n",
       "        new Promise(function(resolve, reject) {\n",
       "          var s = document.createElement('script');\n",
       "          document.getElementsByTagName(\"head\")[0].appendChild(s);\n",
       "          s.async = true;\n",
       "          s.onload = () => {\n",
       "            VEGA_DEBUG[key] = version;\n",
       "            return resolve(paths[lib]);\n",
       "          };\n",
       "          s.onerror = () => reject(`Error loading script: ${paths[lib]}`);\n",
       "          s.src = paths[lib];\n",
       "        });\n",
       "    }\n",
       "\n",
       "    function showError(err) {\n",
       "      outputDiv.innerHTML = `<div class=\"error\" style=\"color:red;\">${err}</div>`;\n",
       "      throw err;\n",
       "    }\n",
       "\n",
       "    function displayChart(vegaEmbed) {\n",
       "      vegaEmbed(outputDiv, spec, embedOpt)\n",
       "        .catch(err => showError(`Javascript Error: ${err.message}<br>This usually means there's a typo in your chart specification. See the javascript console for the full traceback.`));\n",
       "    }\n",
       "\n",
       "    if(typeof define === \"function\" && define.amd) {\n",
       "      requirejs.config({paths});\n",
       "      require([\"vega-embed\"], displayChart, err => showError(`Error loading script: ${err.message}`));\n",
       "    } else {\n",
       "      maybeLoadScript(\"vega\", \"5\")\n",
       "        .then(() => maybeLoadScript(\"vega-lite\", \"5.20.1\"))\n",
       "        .then(() => maybeLoadScript(\"vega-embed\", \"6\"))\n",
       "        .catch(showError)\n",
       "        .then(() => displayChart(vegaEmbed));\n",
       "    }\n",
       "  })({\"config\": {\"view\": {\"continuousWidth\": 300, \"continuousHeight\": 300}}, \"layer\": [{\"data\": {\"name\": \"data-42f50405073b2dbe8396db6b7dd2f6be\"}, \"mark\": {\"type\": \"line\", \"color\": \"black\", \"strokeDash\": [12, 12]}, \"encoding\": {\"x\": {\"field\": \"x\", \"type\": \"quantitative\"}, \"y\": {\"field\": \"y\", \"type\": \"quantitative\"}}}, {\"data\": {\"name\": \"data-7888732f8a000307ded6c5798412f82c\"}, \"mark\": {\"type\": \"line\", \"strokeWidth\": 4}, \"encoding\": {\"x\": {\"field\": \"win_prob_midpoint\", \"title\": \"Predicted Win Probability\", \"type\": \"quantitative\"}, \"y\": {\"field\": \"avg_outcome\", \"title\": \"Average Outcome\", \"type\": \"quantitative\"}}}, {\"data\": {\"name\": \"data-7888732f8a000307ded6c5798412f82c\"}, \"mark\": {\"type\": \"point\", \"fill\": \"white\", \"opacity\": 1, \"size\": 200, \"strokeWidth\": 4}, \"encoding\": {\"x\": {\"field\": \"win_prob_midpoint\", \"type\": \"quantitative\"}, \"y\": {\"field\": \"avg_outcome\", \"type\": \"quantitative\"}}}], \"height\": 400, \"title\": \"Calibration Plot Out-Of-Sample\", \"width\": 400, \"$schema\": \"https://vega.github.io/schema/vega-lite/v5.20.1.json\", \"datasets\": {\"data-42f50405073b2dbe8396db6b7dd2f6be\": [{\"x\": 0, \"y\": 0}, {\"x\": 1, \"y\": 1}], \"data-7888732f8a000307ded6c5798412f82c\": [{\"avg_outcome\": 0.15119549929676512, \"win_prob_midpoint\": 0.05912064891267129}, {\"avg_outcome\": 0.27569099929128277, \"win_prob_midpoint\": 0.1638677737216792}, {\"avg_outcome\": 0.3441466854724965, \"win_prob_midpoint\": 0.2936363392185275}, {\"avg_outcome\": 0.4341833218470021, \"win_prob_midpoint\": 0.39408242088446016}, {\"avg_outcome\": 0.5042735042735043, \"win_prob_midpoint\": 0.4733166930786696}, {\"avg_outcome\": 0.4834770114942529, \"win_prob_midpoint\": 0.539251597785536}, {\"avg_outcome\": 0.5902679830747531, \"win_prob_midpoint\": 0.6174222639525014}, {\"avg_outcome\": 0.6462728551336147, \"win_prob_midpoint\": 0.7185032301972623}, {\"avg_outcome\": 0.7395315826827538, \"win_prob_midpoint\": 0.8459842173775184}, {\"avg_outcome\": 0.8546224417784051, \"win_prob_midpoint\": 0.9431016682001562}]}}, {\"mode\": \"vega-lite\"});\n",
       "</script>"
      ],
      "text/plain": [
       "alt.LayerChart(...)"
      ]
     },
     "execution_count": 16,
     "metadata": {},
     "output_type": "execute_result"
    }
   ],
   "source": [
    "self.plot_calibration_oos(oos_data=wc3_games_test)"
   ]
  },
  {
   "cell_type": "code",
   "execution_count": null,
   "metadata": {},
   "outputs": [],
   "source": []
  }
 ],
 "metadata": {
  "kernelspec": {
   "display_name": "trueskill_env",
   "language": "python",
   "name": "python3"
  },
  "language_info": {
   "codemirror_mode": {
    "name": "ipython",
    "version": 3
   },
   "file_extension": ".py",
   "mimetype": "text/x-python",
   "name": "python",
   "nbconvert_exporter": "python",
   "pygments_lexer": "ipython3",
   "version": "3.12.0"
  }
 },
 "nbformat": 4,
 "nbformat_minor": 2
}
